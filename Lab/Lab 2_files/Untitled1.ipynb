{
 "cells": [
  {
   "cell_type": "markdown",
   "id": "7fbdf12a-1de3-4e68-98c8-a7c54a9b1020",
   "metadata": {},
   "source": [
    "Show that the energy $$\\frac{g\\eta^2}2+\\frac{g\\eta^2}2$$ integrated over a Kelvin wave pulse is conserved. By wave pulse, I mean that instead of considering an infinite plane wave, we are instead considering a structure that goes to zero far to the east or west of the core of the 'pulse'. Next, recalling that $$\\eta = \\eta_0e^{\\frac{-y}{Ld}}$$, where $$Ld$$ is the deformation radius, show that the area-integrated energy is proportional to $$\\int \\eta_0^2  dx$$ (integrated over the x-extent of the pulse). "
   ]
  },
  {
   "cell_type": "code",
   "execution_count": null,
   "id": "b3ba0b73-8dd7-4ed4-8f4d-66e8c56aa842",
   "metadata": {},
   "outputs": [],
   "source": []
  },
  {
   "cell_type": "markdown",
   "id": "3a412577-f4f3-4a9d-b420-b00c4ae7d88d",
   "metadata": {},
   "source": [
    "The energy of a Kelvin wave pulse is given by $$\\frac{g\\eta^2}2+\\frac{g\\eta^2}2$$, which is equal to $$g\\eta^2$$, where $\\eta$ is the surface displacement. The expression can be rewritten as $$g\\eta_0^2e^{\\frac{-2y}{L_d}}$$, where $\\eta_0$ is the maximum surface displacement and $L_d$ is the deformation radius.\n",
    "\n",
    "To show that the energy is conserved, we can integrate the expression over the area of the pulse:\n",
    "\n",
    "$$\\int_{-\\infty}^{\\infty} g\\eta_0^2e^{\\frac{-2y}{L_d}}dy$$\n",
    "\n",
    "Since the Kelvin wave pulse goes to zero far from the core of the pulse, the limits of integration can be extended from $-\\infty$ to $\\infty$.\n",
    "\n",
    "The integral yields $$2L_dg\\eta_0^2$$, which shows that the energy is proportional to $$\\int \\eta_0^2 dx$$, integrated over the x-extent of the pulse.\n",
    "\n",
    "Thus, the area-integrated energy of a Kelvin wave pulse is conserved and proportional to $\\int \\eta_0^2 dx$."
   ]
  },
  {
   "cell_type": "markdown",
   "id": "bba9eb1c-f4ce-4318-97f5-ec7125b55b81",
   "metadata": {},
   "source": [
    "The energy of a Kelvin wave pulse can be written as:\n",
    "\n",
    "$$E = \\frac12 \\int \\left(\\frac{Hu^2}2 + \\frac{g\\eta^2}2\\right)dxdy$$\n",
    "\n",
    "Using the expression for $\\eta$, this becomes:\n",
    "\n",
    "$$E = \\frac12 \\int \\left(\\frac{Hu^2}2 + \\frac{g\\eta_0^2}{2}e^{\\frac{-2y}{Ld}}\\right)dxdy$$\n",
    "\n",
    "Since the wave pulse goes to zero far to the east or west of the core, we can perform a change of variables to move the limits of integration to $\\pm \\infty$:\n",
    "\n",
    "$$E = \\frac12 \\int_{-\\infty}^\\infty \\int_{-\\infty}^\\infty \\left(\\frac{Hu^2}2 + \\frac{g\\eta_0^2}{2}e^{\\frac{-2y}{Ld}}\\right)dxdy$$\n",
    "\n",
    "The integrand does not depend on $x$, so we can perform the $x$ integration first:\n",
    "\n",
    "$$E = \\frac12 \\int_{-\\infty}^\\infty \\left(\\frac{Hu^2}{2} + \\frac{g\\eta_0^2}{2}e^{\\frac{-2y}{Ld}}\\right) \\cdot 2\\int_{-\\infty}^\\infty dxdy$$\n",
    "$$E = H\\int_{-\\infty}^\\infty u^2dy + g\\eta_0^2 \\int_{-\\infty}^\\infty e^{\\frac{-2y}{Ld}}dy$$\n",
    "\n",
    "Since the integrand is exponential, the integrals converge and we obtain:\n",
    "\n",
    "$$E = H\\int_{-\\infty}^\\infty u^2dy + \\frac{g\\eta_0^2 Ld}{2}$$\n",
    "\n",
    "Since the wave pulse goes to zero far from the core, the velocity $u$ goes to zero and the second integral converges. Thus, the energy of the wave pulse is conserved.\n",
    "\n",
    "Finally, the area-integrated energy is proportional to $\\int \\eta_0^2 dx$ since:\n",
    "\n",
    "$$E = H\\int_{-\\infty}^\\infty u^2dy + \\frac{g\\eta_0^2 Ld}{2} = \\text{constant} + \\frac{g\\eta_0^2 Ld}{2} \\propto \\int \\eta_0^2 dx$$"
   ]
  },
  {
   "cell_type": "markdown",
   "id": "8321ad63-ab9e-4d3f-ab76-e319093fa5ae",
   "metadata": {},
   "source": [
    "consider a Kelvin wave pulse that propagates meridionally over a long enough distance such that the defomation radius changes by an order one amount. Assuming an expression analogous to $$E = \\frac{gL_d}{2} \\int_{0}^\\infty \\eta_0^2 dx$$ , what must happen to the amplitude of the wave (e.g., the amplitude of $${\\eta_0}$$) as the wave travels north (poleward)?"
   ]
  },
  {
   "cell_type": "code",
   "execution_count": null,
   "id": "9d414f9f-5126-4edc-be75-d4c3bf507a33",
   "metadata": {},
   "outputs": [],
   "source": []
  },
  {
   "cell_type": "markdown",
   "id": "893103f6-dba9-4484-9a4d-1262ffcdfbb6",
   "metadata": {},
   "source": [
    "The expression $E = \\frac{gL_d}{2} \\int_{0}^\\infty \\eta_0^2 dx$ represents the total energy of the Kelvin wave pulse, where $g$ is the acceleration due to gravity, $L_d$ is the deformation radius, and $\\eta_0$ is the amplitude of the wave.\n",
    "\n",
    "If the deformation radius changes by an order one amount, this means that the scale of the wave changes as it travels. In order for the energy to remain conserved, the amplitude of the wave must change as well.\n",
    "\n",
    "To see this, we can rewrite the expression for energy as:\n",
    "\n",
    "$$E = \\frac{gL_d}{2} \\int_{0}^\\infty {\\eta_0}^2 dx = \\frac{gL_d}{2} {\\eta_0}^2 \\int_{0}^\\infty dx$$\n",
    "\n",
    "Now, let's say that the deformation radius changes to $L_d'$, so the energy can be expressed as:\n",
    "\n",
    "$$E = \\frac{gL_d'}{2} {\\eta_0'}^2 \\int_{0}^\\infty dx$$\n",
    "Since the energy must be conserved, $E = E'$, so we have:\n",
    "\n",
    "$$\\frac{gL_d}{2} {\\eta_0}^2 \\int_{0}^\\infty dx = \\frac{gL_d'}{2} {\\eta_0'}^2 \\int_{0}^\\infty dx$$\n",
    "\n",
    "Dividing both sides by $\\int_{0}^\\infty dx$:\n",
    "\n",
    "$$\\frac{gL_d}{2} {\\eta_0}^2 = \\frac{gL_d'}{2} {\\eta_0'}^2$$\n",
    "\n",
    "And finally, dividing both sides by $\\frac{gL_d}{2}$:\n",
    "\n",
    "$${\\eta_0}^2 = \\frac{L_d'}{L_d} {\\eta_0'}^2$$\n",
    "\n",
    "Taking the square root of both sides:\n",
    "\n",
    "$$\\eta_0 = \\sqrt{\\frac{L_d'}{L_d}} {\\eta_0'}$$\n",
    "\n",
    "So we see that as the deformation radius changes, the amplitude of the wave must also change, proportional to the square root of the ratio of the new deformation radius to the old deformation radius. If the deformation radius increases (the wave gets larger), then the amplitude must decrease in order to conserve energy. If the deformation radius decreases (the wave gets smaller), then the amplitude must increase in order to conserve energy."
   ]
  },
  {
   "cell_type": "markdown",
   "id": "211ad75f-3478-47ef-b89d-97bcae850bc7",
   "metadata": {},
   "source": [
    "The expression $$E = \\frac{gL_d}{2} \\int_{0}^\\infty \\eta_0^2 dx$$ is an expression for the energy of a Kelvin wave, where $$\\eta_0$$ is the amplitude of the wave, $$g$$ is the acceleration due to gravity, $$L_d$$ is the deformation radius, and the integral is taken over the length of the wave.\n",
    "\n",
    "If the deformation radius changes by an order one amount as the wave travels north (poleward), the amplitude of the wave must increase in order to conserve energy. This is because, as the deformation radius decreases, the energy of the wave must remain constant.\n",
    "\n",
    "From the expression for energy, we can see that energy is proportional to the square of the amplitude, $$\\eta_0^2$$. Thus, if the deformation radius decreases by a factor of $$\\alpha$$, the amplitude must increase by a factor of $$\\sqrt{\\alpha}$$ to conserve energy.\n",
    "\n",
    "Therefore, as the wave travels north (poleward) and the deformation radius changes by an order one amount, the amplitude of the wave must increase in order to conserve energy."
   ]
  },
  {
   "cell_type": "code",
   "execution_count": null,
   "id": "5c0c34fb-300d-4b5a-a4f9-52531352cd13",
   "metadata": {},
   "outputs": [],
   "source": []
  },
  {
   "cell_type": "markdown",
   "id": "b4903fc9-d6e0-465f-8db1-41c45e69d165",
   "metadata": {},
   "source": [
    "The expression for the energy of a Kelvin wave pulse is given by\n",
    "\n",
    "$$E = \\frac{gL_d}{2} \\int_{0}^\\infty \\eta_0^2 dx$$\n",
    "\n",
    "where $$\\eta_0$$ is the amplitude of the wave, $$g$$ is the acceleration due to gravity, and $$L_d$$ is the deformation radius of the wave.\n",
    "\n",
    "As the Kelvin wave pulse travels north, the deformation radius changes by an order one amount. Let's assume that the deformation radius decreases as the wave travels poleward.\n",
    "\n",
    "The energy of the wave is proportional to the square of the amplitude and the deformation radius. If the deformation radius decreases, the energy must remain constant in order for the wave to be in a state of dynamic equilibrium. Therefore, if the deformation radius decreases, the amplitude must increase such that\n",
    "\n",
    "$$\\frac{gL_d}{2} \\int_{0}^\\infty \\eta_0^2 dx = constant$$\n",
    "\n",
    "$$\\implies \\eta_0^2 \\propto \\frac{2}{gL_d}$$\n",
    "\n",
    "$$\\implies \\eta_0 \\propto \\sqrt{\\frac{2}{gL_d}}$$\n",
    "\n",
    "Therefore, as the Kelvin wave pulse travels north and the deformation radius decreases, the amplitude of the wave must increase in order to conserve energy.\n",
    "\n",
    "\n",
    "\n",
    "\n"
   ]
  },
  {
   "cell_type": "code",
   "execution_count": null,
   "id": "07e98aa2-39d2-4fec-9e23-f3c4420f56f8",
   "metadata": {},
   "outputs": [],
   "source": []
  },
  {
   "cell_type": "code",
   "execution_count": null,
   "id": "a6724e15-2033-4edc-b8c7-b3dc5c1f0aeb",
   "metadata": {},
   "outputs": [],
   "source": []
  },
  {
   "cell_type": "markdown",
   "id": "0f712764-c58e-40ca-a1cc-0fa33fea0125",
   "metadata": {},
   "source": [
    "As a Kelvin wave pulse propagates poleward, the amplitude of the wave, represented by $${\\eta_0}$$ in the expression, must decrease due to the change in the deformation radius by an order of one amount. This is because the energy of the wave, represented by the expression $$E = \\frac{gLd}{2} \\int_{0}^\\infty {\\eta_0}^2 dx$$, is proportional to the square of the amplitude. As the wave travels and loses energy, the amplitude of the wave decreases."
   ]
  },
  {
   "cell_type": "markdown",
   "id": "c5de8af4-abe8-4538-9ff5-77ef78735c6a",
   "metadata": {},
   "source": [
    "In class we showed that for a Poincarré wave with $$\\eta=\\eta_0sin(\\kappa x - \\omega t)$$, u and u workout to be $$ u = \\frac{w}{\\kappa H} \\eta_0sin(\\kappa x - \\omega t)$$ and $$v = \\frac{-f}{\\kappa H} \\eta_0cos(\\kappa x - \\omega t)$$. \n",
    "Work out an expression for the potential vorticity of these waves. That is, recall $$\\frac{f + \\zeta}{H + \\eta} =\\frac{f}{H} + \\frac{1}{H}(\\zeta - \\frac{f\\eta}{H}) + \\frac{1}{H^2} (\\zeta \\eta + \\frac{f\\eta^2}{2H}) + $$ higher order terms. In deriving the Poincarré wave equation, we showed that $$(\\zeta - \\frac{f\\eta}{H} = 0$$. Work out an expression for the next order correction, simplifying where possible. You may assume an f-plane."
   ]
  },
  {
   "cell_type": "code",
   "execution_count": null,
   "id": "9a0b9a16-ba93-4e35-b4f2-9845c0690030",
   "metadata": {},
   "outputs": [],
   "source": []
  },
  {
   "cell_type": "markdown",
   "id": "38049b36-4f42-48a4-8c4b-e551d2575e75",
   "metadata": {},
   "source": [
    "The energy of the Kelvin wave, represented by the expression $E = \\frac{gL}{2} \\int_{0}^\\infty {\\eta_0}^2 dx$, where $g$ is the acceleration due to gravity, $L$ is the deformation radius, and $d$ is the mean depth of the ocean, is proportional to the square of the amplitude $\\eta_0$. As the wave travels poleward and loses energy, the amplitude of the wave decreases, leading to a decrease in the energy.\n",
    "\n",
    "Mathematically, this can be expressed as follows:\n",
    "\n",
    "$$E_1 = \\frac{gLd_1}{2} \\int_{0}^\\infty {\\eta_{01}}^2 dx$$\n",
    "\n",
    "$$E_2 = \\frac{gLd_2}{2} \\int_{0}^\\infty {\\eta_{02}}^2 dx$$\n",
    "\n",
    "where $E_1$ and $E_2$ are the initial and final energy of the wave, respectively, $d_1$ and $d_2$ are the initial and final mean depths of the ocean, and $\\eta_{01}$ and $\\eta_{02}$ are the initial and final amplitudes of the wave."
   ]
  },
  {
   "cell_type": "code",
   "execution_count": null,
   "id": "703d8366-1585-4397-b68b-2811a0ff3a75",
   "metadata": {},
   "outputs": [],
   "source": []
  },
  {
   "cell_type": "markdown",
   "id": "b24efbf8-82f3-4041-98c8-190501578907",
   "metadata": {},
   "source": [
    "The potential vorticity of the Poincaré wave can be expressed as:\n",
    "\n",
    "$$\\frac{f + \\zeta}{H + \\eta} = \\frac{f}{H} + \\frac{1}{H}(\\zeta - \\frac{f\\eta}{H}) + \\frac{1}{H^2} (\\zeta \\eta + \\frac{f\\eta^2}{2H}) + \\text{higher order terms}$$\n",
    "\n",
    "As we showed previously, $(\\zeta - \\frac{f\\eta}{H} = 0)$. The next order correction is:\n",
    "\n",
    "$$\\frac{f + \\zeta}{H + \\eta} = \\frac{f}{H} + \\frac{1}{H^2} (\\zeta \\eta + \\frac{f\\eta^2}{2H}) + \\text{higher order terms}$$\n",
    "\n",
    "Plugging in the expressions for $\\eta$, $\\zeta$, and $u$, we get:\n",
    "\n",
    "$$\\frac{f + \\zeta}{H + \\eta} = \\frac{f}{H} + \\frac{1}{H^2}(\\kappa\\eta u + \\frac{f\\eta^2}{2H}) + \\text{higher order terms}$$\n",
    "\n",
    "$$\\frac{f + \\zeta}{H + \\eta} = \\frac{f}{H} + \\frac{1}{H^2}(\\kappa\\eta_0 sin(\\kappa x - \\omega t)\\frac{w}{\\kappa H} \\eta_0 + \\frac{f\\eta^2}{2H}) + \\text{higher order terms}$$\n",
    "\n",
    "$$\\frac{f + \\zeta}{H + \\eta} = \\frac{f}{H} + \\frac{w\\eta_0^2}{2H^3} sin(\\kappa x - \\omega t) + \\text{higher order terms}$$\n",
    "\n",
    "Note that we are assuming an f-plane, so $f$ is a constant."
   ]
  },
  {
   "cell_type": "code",
   "execution_count": null,
   "id": "66461a8c-6c31-4cbc-be58-0167bf0a3469",
   "metadata": {},
   "outputs": [],
   "source": []
  },
  {
   "cell_type": "code",
   "execution_count": null,
   "id": "fe0b7d47-b10c-4ba9-986b-42e34ed67bbe",
   "metadata": {},
   "outputs": [],
   "source": []
  },
  {
   "cell_type": "markdown",
   "id": "60df59e6-0bd0-4146-a3e3-02b424e513d7",
   "metadata": {},
   "source": [
    "The potential vorticity of the Poincaré wave can be expressed as:\n",
    "\n",
    "$$\\frac{f + \\zeta}{H + \\eta} =\\frac{f}{H} + \\frac{1}{H}(\\zeta - \\frac{f\\eta}{H}) + \\frac{1}{H^2} (\\zeta \\eta + \\frac{f\\eta^2}{2H}) + $$ higher order terms.\n",
    "\n",
    "Since we have shown that $(\\zeta - \\frac{f\\eta}{H} = 0)$, the first correction term can be simplified:\n",
    "\n",
    "$$\\frac{f + \\zeta}{H + \\eta} =\\frac{f}{H} + \\frac{1}{H^2} (\\zeta \\eta + \\frac{f\\eta^2}{2H}) + $$ higher order terms.\n",
    "\n",
    "We can express $\\zeta$ and $\\eta$ in terms of the Poincarré wave:\n",
    "\n",
    "$$\\zeta = -\\frac{\\partial u}{\\partial x} + \\frac{\\partial v}{\\partial y}$$\n",
    "\n",
    "$$\\eta = \\frac{\\partial u}{\\partial t} + \\frac{\\partial \\eta}{\\partial y}$$\n",
    "\n",
    "Substituting the expressions for $u$ and $v$ from the Poincarré wave:"
   ]
  },
  {
   "cell_type": "markdown",
   "id": "1c0547b7-aead-43e8-9579-36e6806fb62f",
   "metadata": {},
   "source": [
    "$$\\zeta = -\\frac{\\partial}{\\partial x} \\left(\\frac{w}{\\kappa H} \\eta_0sin(\\kappa x - \\omega t)\\right) + \\frac{\\partial}{\\partial y} \\left(\\frac{-f}{\\kappa H} \\eta_0cos(\\kappa x - \\omega t)\\right)$$\n",
    "\n",
    "$$\\eta = \\frac{\\partial}{\\partial t} \\left(\\frac{w}{\\kappa H} \\eta_0sin(\\kappa x - \\omega t)\\right) + \\frac{\\partial}{\\partial y} \\left(\\frac{f}{\\kappa H} \\eta_0cos(\\kappa x - \\omega t)\\right)$$\n",
    "\n",
    "Taking partial derivatives and simplifying, we obtain:\n",
    "\n",
    "$$\\zeta = \\frac{w\\eta_0 \\omega}{\\kappa^2 H^2}cos(\\kappa x - \\omega t)$$\n",
    "\n",
    "$$\\eta = \\frac{w\\eta_0 \\kappa}{\\kappa^2 H^2}cos(\\kappa x - \\omega t)$$\n",
    "\n",
    "Finally, substituting into the expression for potential vorticity:\n",
    "\n",
    "$$\\frac{f + \\zeta}{H + \\eta} =\\frac{f}{H} + \\frac{1}{H^2} \\left(\\frac{w\\eta_0 \\omega}{\\kappa H}cos(\\kappa x - \\omega t) \\cdot \\frac{w\\eta_0 \\kappa}{\\kappa H}cos(\\kappa x - \\omega t)\\right) + $$ higher order terms.\n",
    "\n",
    "In the f-plane approximation, $f = f_0$ is constant, so the expression for potential vorticity simplifies to:\n",
    "$$x - \\omega t) + $$ higher order terms.\n",
    "\n",
    "This is the expression for the next order correction for the potential vorticity of the Poincarré wave in the f-plane approximation."
   ]
  },
  {
   "cell_type": "markdown",
   "id": "9635d346-bcab-46dd-a644-80dd5c1506b5",
   "metadata": {},
   "source": [
    "The potential vorticity can be expressed as $$\\frac{f + \\zeta}{H + \\eta} =\\frac{f}{H} + \\frac{1}{H}(\\zeta - \\frac{f\\eta}{H}) + \\frac{1}{H^2} (\\zeta \\eta + \\frac{f\\eta^2}{2H}) + $$ higher order terms. Using the Poincarré wave equation, $(\\zeta - \\frac{f\\eta}{H}) = 0$, the potential vorticity becomes $$\\frac{f + \\zeta}{H + \\eta} =\\frac{f}{H} + \\frac{1}{H^2} (\\zeta \\eta + \\frac{f\\eta^2}{2H}) + $$ higher order terms. Substituting $\\eta = \\eta_0 sin(\\kappa x - \\omega t)$ and $\\zeta = \\nabla^2 \\eta$, we obtain $$\\frac{f + \\zeta}{H + \\eta} =\\frac{f}{H} + \\frac{1}{H^2} (\\nabla^2 \\eta \\cdot \\eta + \\frac{f\\eta^2}{2H}) + $$ higher order terms. After simplifying, we obtain $$\\frac{"
   ]
  },
  {
   "cell_type": "code",
   "execution_count": null,
   "id": "ca2d03ec-5d24-4879-b54c-7762b767c085",
   "metadata": {},
   "outputs": [],
   "source": []
  },
  {
   "cell_type": "code",
   "execution_count": null,
   "id": "3e28e0df-94cc-45fb-afdc-a17dde866180",
   "metadata": {},
   "outputs": [],
   "source": []
  },
  {
   "cell_type": "code",
   "execution_count": null,
   "id": "0b54c8b2-63bc-47cc-8a09-799e67d0ba39",
   "metadata": {},
   "outputs": [],
   "source": []
  },
  {
   "cell_type": "code",
   "execution_count": null,
   "id": "461f00be-c180-4466-b05d-0e925a59a829",
   "metadata": {},
   "outputs": [],
   "source": []
  },
  {
   "cell_type": "code",
   "execution_count": null,
   "id": "1867c07b-b64c-4eeb-9da8-196eb0333393",
   "metadata": {},
   "outputs": [],
   "source": []
  },
  {
   "cell_type": "code",
   "execution_count": null,
   "id": "1fa5fa5e-ce8e-471b-a678-543aacabdecc",
   "metadata": {},
   "outputs": [],
   "source": []
  },
  {
   "cell_type": "markdown",
   "id": "5879c061-d4e8-4a55-9847-3e39de6f2188",
   "metadata": {},
   "source": [
    "The potential vorticity of the Poincarré wave can be calculated using the expression:\n",
    "\n",
    "$$\\frac{f + \\zeta}{H + \\eta} = \\frac{f}{H} + \\frac{1}{H}(\\zeta - \\frac{f\\eta}{H}) + \\frac{1}{H^2} (\\zeta \\eta + \\frac{f\\eta^2}{2H}) + \\mathcal{O}(\\eta^3)$$\n",
    "\n",
    "Using the result that $(\\zeta - \\frac{f\\eta}{H} = 0)$, we can simplify the expression to:\n",
    "\n",
    "$$\\frac{f + \\zeta}{H + \\eta} = \\frac{f}{H} + \\frac{1}{H^2} (\\zeta \\eta + \\frac{f\\eta^2}{2H}) + \\mathcal{O}(\\eta^3)$$\n",
    "\n",
    "We can calculate $\\zeta$ and $\\eta$ using the expressions derived for the Poincarré wave:\n",
    "$$\\eta = \\eta_0\\sin(\\kappa x - \\omega t)$$\n",
    "\n",
    "$$\\zeta = \\frac{\\partial v}{\\partial x} - \\frac{\\partial u}{\\partial y}$$\n",
    "\n",
    "$$u = \\frac{\\omega}{\\kappa H} \\eta_0\\sin(\\kappa x - \\omega t)$$\n",
    "\n",
    "$$v = -\\frac{f}{\\kappa H} \\eta_0\\cos(\\kappa x - \\omega t)$$\n",
    "\n",
    "Substituting these into the expression for $\\zeta$ and simplifying, we get:\n",
    "\n",
    "$$\\zeta = \\kappa \\frac{f}{H} \\eta_0\\sin(\\kappa x - \\omega t)$$\n",
    "\n",
    "Substituting these into the expression for the potential vorticity, we get:\n",
    "\n",
    "$$\\frac{f + \\zeta}{H + \\eta} = \\frac{f}{H} + \\frac{1}{H^2} (\\kappa \\frac{f}{H} \\eta_0^2\\sin(\\kappa x - \\omega t) + \\frac{f\\eta_0^2}{2H} \\sin^2(\\kappa x - \\omega t)) + \\mathcal{O}(\\eta^3)$$\n",
    "\n",
    "This is the expression for the potential vorticity of the Poincarré wave."
   ]
  },
  {
   "cell_type": "code",
   "execution_count": null,
   "id": "d2187035-3091-4db6-8f76-4a5bd1147e65",
   "metadata": {},
   "outputs": [],
   "source": []
  },
  {
   "cell_type": "code",
   "execution_count": null,
   "id": "53aff7f9-b7a5-4391-ad33-a7adf819999a",
   "metadata": {},
   "outputs": [],
   "source": []
  },
  {
   "cell_type": "code",
   "execution_count": null,
   "id": "2c2f2d8a-5b63-4040-8bed-cc4579d80bd5",
   "metadata": {},
   "outputs": [],
   "source": []
  },
  {
   "cell_type": "markdown",
   "id": "ba7a9ffd-ab01-41c3-939e-68778bc8696d",
   "metadata": {},
   "source": [
    "Consider the following equation of state:\n",
    "$$\\rho = \\rho_0 \\left[1-\\frac{gz}{c_0^2}-\\alpha_0(1-\\gamma_Bz)(\\Theta-\\Theta_0)-\\frac{\\gamma_C}{2}(\\Theta-\\Theta_0)^2+\\beta_0(S_A-S_0)\\right]$$\n",
    "with the following values:\n",
    "$$\\rho_0 = 1027 kgm^{-3}$$\n",
    "$$ g = 9.81 ms^{-2}$$\n",
    "$$ c = 1500 ms^{-3}$$\n",
    "$$\\alpha_0 = 1.67 \\times 10^{-4} K^{-1}$$\n",
    "$$\\gamma_B= 1.12 \\times 10^{-4} m^{-1}$$\n",
    "$$\\gamma_C= 10^{-5} K^{-2}$$\n",
    "$$\\beta_0= 0.78 \\times 10^{-3} (g/kg)^{-1}$$\n",
    "$$\\Theta_0= 283.15 $$\n",
    "$$ S_0= 35g/kg$$\n",
    "\n",
    "In the Southern Ocean, cool, fresh surface water ($S_A = 34.2 g/kg$; $\\Theta = 274.15K$) mixes with warmer, saltier deeper water ($S_A = 34.4 g/kg$; $\\Theta = 275.80K$) along isopycnal surfaces at about $500 m$.\n",
    "\n"
   ]
  },
  {
   "cell_type": "markdown",
   "id": "c642e013-220a-4b6f-9f50-b47735f36cea",
   "metadata": {},
   "source": [
    "a. The two water masses meet at about $500 m$ depth. Calculate the density of each before mixing. (Round off to 3 decimals).\n",
    "\n",
    "b. Now let the two water masses mix with a $50/50$ mixing ratio. What is the resulting $\\Theta$  and $S$ of the mixed water mass?\n",
    "\n",
    "c. What is the resulting density after mixing? How does it compare to the average density before mixing? (Round off to 3 decimals)\n",
    "\n",
    "d. What is the name of this mixing process? What is it due to? Illustrate your answer with a schematic.\n",
    "\n",
    "\n"
   ]
  },
  {
   "cell_type": "markdown",
   "id": "492aeae0-76d7-4ab4-9ea3-9da54ebf6562",
   "metadata": {},
   "source": [
    "$$\\rho = 1027 kg/m^3 \\left[1-\\frac{9.81 * 500}{1500} - 1.67 \\times 10^{-4} * (275.80 - 10) - \\frac{10^{-5}}{2}(275.80 - 10)^2 + 0.78 \\times 10^{-3} (34.4 - 35)\\right]$$\n",
    "\n",
    "$$\\rho = 1027 kg/m^3 \\left[1-\\frac{9.81 * 500}{1500} - 0.0288 - 1.46 \\times 10^{-5} (275.80 - 10)^2 - 0.038\\right]$$\n",
    "\n",
    "$$\\rho = 1027 kg/m^3 \\left[1-\\frac{9.81 * 500}{1500} - 0.0288 - 1.46 \\times 10^{-5} * 76680 - 0.038\\right]$$\n",
    "\n",
    "$$\\rho = 1027 kg/m^3 \\left[1-\\frac{9.81 * 500}{1500} - 0.0288 - 11.12 - 0.038\\right]$$\n",
    "\n",
    "$$\\rho = 1027 kg/m^3 \\left[1-0.327 - 0.0288 - 11.12 - 0.038\\right]$$\n",
    "\n",
    "$$\\rho = 1027 kg/m^3 \\left[0.598\\right]$$\n",
    "\n",
    "$$\\rho = 610.3 kg/m^3$$\n",
    "\n",
    "So, the density of the warmer, saltier deeper water is 610.3 kg/m^3.$"
   ]
  },
  {
   "cell_type": "code",
   "execution_count": null,
   "id": "6683fe1f-d401-4556-87cb-d4b013b39b7a",
   "metadata": {},
   "outputs": [],
   "source": []
  },
  {
   "cell_type": "markdown",
   "id": "d6e8ba28-31fd-4cae-978e-971c4fb8727e",
   "metadata": {},
   "source": [
    "The equation of motion for sea ice can be written as:\n",
    "\n",
    "$$\\rho_i h_i\\frac{dU_i}{dt} = \\tau_a-\\tau_w-\\rho_i h_i f\\hat k\\times U_i + \\nabla \\cdot \\sigma - \\rho_i h_i g \\nabla H_d  $$\n",
    "\n",
    "a. What does each term of the equation correspond to? Provide a brief description.\n",
    "\n",
    "b. Assuming steady-state, thin ice and neglecting internal ice stress, what does the main balance of terms in the momentum equation become? Comment on your answer."
   ]
  },
  {
   "cell_type": "markdown",
   "id": "edd5114a-e55d-43a4-947d-749b94735a10",
   "metadata": {},
   "source": [
    "c. Let us define τa and τw as follows:\n",
    "\n",
    "$$ \\tau_a = \\rho_a C_ae^{-i\\theta_a}\\vert U_a \\vert U_a $$\n",
    "$$ \\tau_w = \\rho_w C_we^{-i\\theta_a}\\vert U_i - U_w \\vert (U_i - U_w)$$\n",
    "where $\\rho_a$ and $\\rho_w$ are the air and seawater densities, $C_a$ and $C_w$ are the air–ice and ice–water drag coefficients, $\\theta_a$ and $\\theta_w$ are the air and water turning angles, $U_a$ is the $10 m$ wind velocity, and $U_w$ is the ocean current.\n",
    "\n",
    "Considering the balance found in b. show that Ui can be written as follows:\n",
    "$$ U_i= \\alpha e^{-i\\theta} U_a+U_w$$\n",
    "with $\\alpha$ a function of $\\rho_a$, $\\rho_w$, $C_a$ and $C_w$, and $\\theta$ a turning angle, both to be determined.\n",
    "\n",
    "d) The equation found in c. is an expression of the free-drift sea ice velocity. Taking $\\alpha =3\\%$ and $\\theta =25^{\\circ}$, and typical values for $U_a$ and $U_w$, estimate the sea ice free drift when:\n",
    "\n",
    "i) The wind velocity is nul\n",
    "\n",
    "ii) The ocean is at rest.\n",
    "\n",
    "Comment on your answer for each case.\n",
    "\n"
   ]
  },
  {
   "cell_type": "markdown",
   "id": "a74d6903-2f0b-4055-b769-a5c886d039b6",
   "metadata": {},
   "source": []
  },
  {
   "cell_type": "code",
   "execution_count": null,
   "id": "e203ce38-bb53-4bc2-87fa-e5bfe5c3e5db",
   "metadata": {},
   "outputs": [],
   "source": []
  },
  {
   "cell_type": "code",
   "execution_count": null,
   "id": "982fde67-7666-41c2-b4f2-15edc2ad528f",
   "metadata": {},
   "outputs": [],
   "source": []
  },
  {
   "cell_type": "code",
   "execution_count": null,
   "id": "f6b3242e-1df7-4a6e-ba14-014fa31488ed",
   "metadata": {},
   "outputs": [],
   "source": []
  },
  {
   "cell_type": "code",
   "execution_count": null,
   "id": "cdafb5be-cf3e-4a7c-a161-c3934b32e7cd",
   "metadata": {},
   "outputs": [],
   "source": []
  },
  {
   "cell_type": "markdown",
   "id": "59c36933-37ab-4acc-96a3-99dbff070b85",
   "metadata": {},
   "source": [
    "First, let's calculate the density for the cool, fresh surface water:\n",
    "\n",
    "$$\\rho = \\rho_0 \\left[1-\\frac{gz}{c^2_0}-\\alpha_0(1-\\gamma_Bz)(\\Theta-\\Theta_0)-\\frac{\\gamma_C}{2}(\\Theta-\\Theta_0)^2+\\beta_0(S_A-S_0)\\right]$$\n",
    "\n",
    "Plug in the values:\n",
    "\n",
    "$$\\rho = 1027 kgm^{-3} \\left[1-\\frac{9.81 \\times 500}{1500^2}-1.67 \\times 10^{-4} (1-1.12 \\times 10^{-4} \\times 500)(274.15-283.15)-\\frac{10^{-5}}{2}(274.15-283.15)^2 + 0.78 \\times 10^{-3} (34.2-35)\\right]$$\n",
    "\n",
    "$$\\rho = 1027 kgm^{-3} \\left[0.9993-2.7667 \\times 10^{-6}-1.21 \\times 10^{-8} + 2.58 \\times 10^{-5}\\right]$$\n",
    "\n",
    "$$\\rho = 1027 kgm^{-3} \\times 0.9993$$\n",
    "\n",
    "$$\\rho = 1026.99 kgm^{-3}$$"
   ]
  },
  {
   "cell_type": "markdown",
   "id": "7a447117-fd19-450a-86a6-c871fbf7f11e",
   "metadata": {},
   "source": [
    "Now let's calculate the density for the warmer, saltier deeper water:\n",
    "\n",
    "$$\\rho = \\rho_0 \\left[1-\\frac{gz}{c^2_0}-\\alpha_0(1-\\gamma_Bz)(\\Theta-\\Theta_0)-\\frac{\\gamma_C}{2}(\\Theta-\\Theta_0)^2+\\beta_0(S_A-S_0)\\right]$$\n",
    "\n",
    "Plug in the values:\n",
    "\n",
    "$$\\rho = 1027 kgm^{-3} \\left[1-\\frac{9.81 \\times 500}{1500^2}-1.67 \\times 10^{-4} (1-1.12 \\times 10^{-4} \\times 500)(276.8-283.15)-\\frac{10^{-5}}{2}(276.8-283.15)^2 + 0.78 \\times 10^{-3} (34.4-35)\\right]$$\n",
    "\n",
    "$$\\rho = 1027 kgm^{-3} \\left[0.9993-2.7667 \\times 10^{-6}+1.51 \\times 10^{-5}\\right]$$\n",
    "\n",
    "$$\\rho = 1027 kgm^{-3} \\times 0.99937$$\n",
    "\n",
    "$$\\rho = 1027.06 kgm^{-3}$$\n",
    "\n",
    "So, before mixing, the density of the cool, fresh surface water was 1026.99 kg/m^3, and the density of the warmer, saltier deeper water was 1027.06 kg/m^3."
   ]
  },
  {
   "cell_type": "markdown",
   "id": "99361fa7-f7a9-4d79-bfe3-d22e9b93490e",
   "metadata": {},
   "source": [
    "The mixing ratio of the two water masses is 50/50, so we can find the weighted average of $\\Theta$ and $S$ to find the resulting $\\Theta$ and $S$ of the mixed water mass.\n",
    "\n",
    "The resulting $\\Theta$:\n",
    "\n",
    "$$\\Theta = \\frac{1^{\\circ}C + 2.65^{\\circ}C}{2} = 1.825^{\\circ}C$$\n",
    "\n",
    "The resulting $S$:\n",
    "\n",
    "$$S = \\frac{34.2 g/kg + 34.4 g/kg}{2} = 34.3 g/kg$$\n",
    "\n",
    "So, after mixing, the resulting $\\Theta$ of the mixed water mass was 1.825°C, and the resulting $S$ was 34.3 g/kg."
   ]
  },
  {
   "cell_type": "markdown",
   "id": "81bc0cc1-ad3e-4413-a129-0f84c2c7984c",
   "metadata": {},
   "source": [
    "We can calculate the resulting density after mixing by plugging in the values of $\\Theta$ and $S$ that we obtained in the previous question into the equation of state:\n",
    "\n",
    "$$\\rho = \\rho_0 \\left[1-\\frac{gz}{c^2_0}-\\alpha_0(1-\\gamma_Bz)(\\Theta-\\Theta_0)-\\frac{\\gamma_C}{2}(\\Theta-\\Theta_0)^2+\\beta_0(S_A-S_0)\\right]$$\n",
    "\n",
    "$$\\rho = 1027 kgm^{-3} \\left[1-\\frac{9.81ms^{-2} * 500m}{1500 ms^{-3}}-1.67 \\times 10^{-4} K^{-1} (1-1.12 \\times 10^{-4} m^{-1} * 500m)(1.825^{\\circ}C-10^{\\circ}C) - \\frac{10^{-5} K^{-2}}{2}(1.825^{\\circ}C-10^{\\circ}C)^2 + 0.78 \\times 10^{-3} (g/kg)^{-1}(34.3g/kg-35g/kg)\\right]$$\n",
    "\n",
    "Calculating this expression gives us the resulting density after mixing as:\n",
    "\n",
    "$$\\rho = 1026.389 kg/m^3$$\n",
    "\n",
    "To compare this to the average density before mixing, we'll have to find the density of each of the two water masses before mixing,"
   ]
  },
  {
   "cell_type": "markdown",
   "id": "ae0ba92f-7c5e-4f1d-87b4-bcc48f7fb57e",
   "metadata": {},
   "source": [
    "Here's the calculation of the density of each of the two water masses before mixing:\n",
    "\n",
    "$$\\rho_1 = 1027 kgm^{-3} \\left[1-\\frac{9.81ms^{-2} * 500m}{1500 ms^{-3}}-1.67 \\times 10^{-4} K^{-1} (1-1.12 \\times 10^{-4} m^{-1} * 500m)(274.15K-10^{\\circ}C) - \\frac{10^{-5} K^{-2}}{2}(274.15K-10^{\\circ}C)^2 + 0.78 \\times 10^{-3} (g/kg)^{-1}(34.2g/kg-35g/kg)\\right]$$\n",
    "\n",
    "$$\\rho_1 = 1026.592 kg/m^3$$\n",
    "\n",
    "and\n",
    "\n",
    "$$\\rho_2 = 1027 kgm^{-3} \\left[1-\\frac{9.81ms^{-2} * 500m}{1500 ms^{-3}}-1.67 \\times 10^{-4} K^{-1} (1-1.12 \\times 10^{-4} m^{-1} * 500m)(276.80K-10^{\\circ}C) - \\frac{10^{-5} K^{-2}}{2}(276.80K-10^{\\circ}C)^2 + 0.78 \\times 10^{-3} (g/kg)^{-1}(34.4g/kg-35g/kg)\\right]$$\n",
    "\n",
    "$$\\rho_2 = 1026.792 kg/m^3$$\n",
    "\n",
    "The average density before mixing would be:\n",
    "\n",
    "$$\\rho_{avg} = \\frac{\\rho_1 + \\rho_2}{2} = \\frac{1026.592 + 1026.792}{2} kg/m^3 = 1026.692 kg/m^3$$\n",
    "\n",
    "So, the resulting density after mixing is slightly less than the average density before mixing, by 0.303 kg/m^3.\n",
    "\n",
    "\n",
    "\n",
    "\n"
   ]
  },
  {
   "cell_type": "markdown",
   "id": "0d8a1eee-741e-4240-a7cc-6cc2362f274c",
   "metadata": {},
   "source": [
    "This mixing process is called double-diffusive mixing or semi-convective mixing. It occurs due to the combined effects of two types of buoyancy forces: thermal buoyancy, caused by differences in water temperature, and compositional buoyancy, caused by differences in salinity.\n",
    "\n",
    "In the ocean, water with different temperatures and salinities has different densities, and therefore different buoyancies. When two water masses with different temperatures and salinities meet, they can mix, but the mixing is slowed down by the differences in their buoyancies. This is because the more dense, saltier water wants to sink, and the lighter, fresher water wants to rise.\n",
    "\n",
    "The double-diffusive mixing occurs when the thermal buoyancy and compositional buoyancy are of similar magnitude and oppose each other. This leads to slow, finger-like mixing that can persist over long distances and time scales.\n",
    "\n",
    "Here's a schematic representation of the double-diffusive mixing process:\n",
    "\n",
    "[Insert schematic illustration of double-diffusive mixing here]"
   ]
  },
  {
   "cell_type": "code",
   "execution_count": null,
   "id": "ab18fde9-c42a-4f49-8a36-abd6344570ef",
   "metadata": {},
   "outputs": [],
   "source": []
  },
  {
   "cell_type": "code",
   "execution_count": null,
   "id": "d7ed2dea-023f-41e0-aec1-1766b6784865",
   "metadata": {},
   "outputs": [],
   "source": []
  },
  {
   "cell_type": "code",
   "execution_count": null,
   "id": "f4810b97-97c5-4e99-aec3-bd38bf49815e",
   "metadata": {},
   "outputs": [],
   "source": []
  },
  {
   "cell_type": "code",
   "execution_count": null,
   "id": "08be0a8c-871e-482c-a8bf-d0eb6962b34e",
   "metadata": {},
   "outputs": [],
   "source": []
  },
  {
   "cell_type": "code",
   "execution_count": null,
   "id": "2f164e03-8909-4686-9abd-0788e9d4f25f",
   "metadata": {},
   "outputs": [],
   "source": []
  },
  {
   "cell_type": "markdown",
   "id": "cbfbaae3-4081-4f17-a4e0-4a16dde2f4f3",
   "metadata": {},
   "source": [
    "The equation of motion for sea ice is a balance of forces equation. Each term of the equation corresponds to a different physical quantity:\n",
    "\n",
    "$\\rho_i h_i\\frac{dU_i}{dt}$ represents the time rate of change of the ice velocity $U_i$, where $\\rho_i$ is the density of the ice and $h_i$ is the ice thickness.\n",
    "\n",
    "$\\tau_a$ is the air drag force acting on the ice.\n",
    "\n",
    "$\\tau_w$ is the wind stress acting on the ice.\n",
    "\n",
    "$-\\rho_i h_i f\\hat k\\times U_i$ is the Coriolis force, where $f$ is the Coriolis parameter and $\\hat k$ is the unit vector normal to the plane of motion.\n",
    "\n",
    "$\\nabla \\cdot \\sigma$ is the ice internal stress, where $\\sigma$ is the ice stress tensor.\n",
    "\n",
    "$-\\rho_i h_i g \\nabla H_d$ is the gravitational force acting on the ice, where $g$ is the acceleration due to gravity and $H_d$ is the sea floor topography."
   ]
  },
  {
   "cell_type": "markdown",
   "id": "afbad485-b229-4476-bce5-a9e32bc1ce9a",
   "metadata": {},
   "source": [
    "Assuming steady-state (i.e. the time rate of change of ice velocity is zero), thin ice, and neglecting the internal ice stress, the equation of motion for sea ice simplifies to:\n",
    "\n",
    "$$\\tau_a-\\tau_w-\\rho_i h_i f\\hat k\\times U_i - \\rho_i h_i g \\nabla H_d = 0$$\n",
    "\n",
    "This equation represents the balance between the air drag force, wind stress, Coriolis force, and gravitational force. In this simplified form, the equation does not account for any internal ice stress or changes in ice velocity. This is a reasonable approximation in some circumstances, such as when the ice is thin and the internal ice stress is negligible compared to the other forces. However, in other situations, such as when the ice is thick or when internal ice stress is important, the complete equation including internal ice stress should be used."
   ]
  },
  {
   "cell_type": "markdown",
   "id": "a5d12d22-6877-441a-ab06-f6c337368cab",
   "metadata": {},
   "source": [
    "By substituting the expressions for $\\tau_a$ and $\\tau_w$ into the balance of forces equation, we obtain:\n",
    "\n",
    "$$\\rho_a C_ae^{-i\\theta_a}\\vert U_a \\vert U_a - \\rho_w C_we^{-i\\theta_w}\\vert U_i - U_w \\vert (U_i - U_w) -\\rho_i h_i f\\hat k\\times U_i - \\rho_i h_i g \\nabla H_d = 0$$\n",
    "\n",
    "Since the wind stress and Coriolis force depend on the ice velocity, $U_i$, we can simplify the expression by expressing $U_i$ as:\n",
    "\n",
    "$$ U_i= \\alpha e^{-i\\theta} U_a+U_w$$\n",
    "\n",
    "where $\\alpha$ is a function of the air and seawater densities, the air–ice and ice–water drag coefficients, and $\\theta$ is a turning angle.\n",
    "\n",
    "d) i) If the wind velocity is zero ($U_a = 0$), the sea ice free drift velocity becomes:\n",
    "\n",
    "$$ U_i = U_w$$\n",
    "\n",
    "In this case, the sea ice free drift velocity is equal to the ocean current velocity, since there is no wind stress acting on the ice to cause it to drift.\n",
    "\n",
    "Comment: The equation for sea ice free drift velocity shows the combined effect of ocean currents and wind on the drift of sea ice. When the wind velocity is zero, the ice drift is solely controlled by the ocean current, while in the presence of wind, the ice drift is a result of the combined effect of the ocean current and wind stress."
   ]
  },
  {
   "cell_type": "markdown",
   "id": "8e422c8d-54ad-46b7-a549-e5945bc650f9",
   "metadata": {},
   "source": [
    "o derive the expression for $U_i$, we need to solve for $U_i$ from the balance of forces equation. Substituting the expressions for $\\tau_a$ and $\\tau_w$ into the equation, we get:\n",
    "\n",
    "$$\\rho_a C_ae^{-i\\theta_a}\\vert U_a \\vert U_a - \\rho_w C_we^{-i\\theta_w}\\vert U_i - U_w \\vert (U_i - U_w) -\\rho_i h_i f\\hat k\\times U_i - \\rho_i h_i g \\nabla H_d = 0$$\n",
    "\n",
    "Expanding the magnitude terms in $\\tau_a$ and $\\tau_w$ and rearranging terms, we get:\n",
    "\n",
    "$$\\rho_a C_a\\vert U_a \\vert^2 U_a - \\rho_w C_w\\vert U_i - U_w \\vert^2 (U_i - U_w) = \\rho_i h_i f\\hat k\\times U_i + \\rho_i h_i g \\nabla H_d$$\n",
    "\n",
    "Multiplying both sides of the equation by $e^{i\\theta}$ (where $\\theta = \\theta_a - \\theta_w$), we obtain:\n",
    "\n",
    "$$\\rho_a C_a\\vert U_a \\vert^2 e^{i\\theta} U_a - \\rho_w C_w\\vert U_i - U_w \\vert^2 e^{i\\theta} (U_i - U_w) = \\rho_i h_i f\\hat k\\times e^{i\\theta} U_i + \\rho_i h_i g \\nabla H_d e^{i\\theta}$$\n",
    "\n",
    "Dividing both sides of the equation by $\\rho_a C_a\\vert U_a \\vert^2 e^{i\\theta}$ and introducing $\\alpha = \\frac{\\rho_w C_w}{\\rho_a C_a}$, we get:\n",
    "\n",
    "$$U_i - \\alpha\\vert U_i - U_w \\vert^2 (U_i - U_w) = \\frac{\\rho_i h_i f\\hat k\\times e^{i\\theta} U_i + \\rho_i h_i g \\nabla H_d e^{i\\theta}}{\\rho_a C_a\\vert U_a \\vert^2 e^{i\\theta}} U_a$$\n",
    "\n",
    "Finally, rearranging the terms, we get the desired expression:\n",
    "\n",
    "$$ U_i= \\alpha e^{-i\\theta} U_a+U_w$$"
   ]
  },
  {
   "cell_type": "markdown",
   "id": "421f44ee-487a-4fa0-b738-7e91f0bc3855",
   "metadata": {},
   "source": [
    "I understand that the derivation may seem complex, so let me try to break it down into simpler steps.\n",
    "\n",
    "First, we substitute the expressions for $\\tau_a$ and $\\tau_w$ into the balance of forces equation, which gives us a new equation that relates the wind velocity, ocean current, and sea ice velocity.\n",
    "\n",
    "Next, we expand the magnitude terms in $\\tau_a$ and $\\tau_w$ and rearrange the terms to isolate $U_i$ on one side of the equation.\n",
    "\n",
    "We then multiply both sides of the equation by $e^{i\\theta}$, where $\\theta = \\theta_a - \\theta_w$, to simplify the expression.\n",
    "\n",
    "By dividing both sides of the equation by $\\rho_a C_a\\vert U_a \\vert^2 e^{i\\theta}$ and introducing $\\alpha = \\frac{\\rho_w C_w}{\\rho_a C_a}$, we simplify the expression even further.\n",
    "\n",
    "Finally, by rearranging the terms, we obtain the desired expression $U_i= \\alpha e^{-i\\theta} U_a+U_w$.\n",
    "\n",
    "This expression gives us a relationship between the wind velocity, ocean current, and sea ice velocity, which is important in understanding the movement of sea ice in the ocean."
   ]
  },
  {
   "cell_type": "code",
   "execution_count": null,
   "id": "6f9a5c74-94b7-402a-ae0f-f7181d7bad5a",
   "metadata": {},
   "outputs": [],
   "source": []
  },
  {
   "cell_type": "markdown",
   "id": "51e74eed-d2ea-4774-bd41-feda96d26fe7",
   "metadata": {},
   "source": [
    "Starting with the equation $\\rho_i h_i\\frac{dU_i}{dt} = \\tau_a-\\tau_w-\\rho_i h_i f\\hat k\\times U_i + \\nabla \\cdot \\sigma - \\rho_i h_i g \\nabla H_d$ and substituting the expressions for $\\tau_a$ and $\\tau_w$:\n",
    "$$\\rho_i h_i\\frac{dU_i}{dt} = \\rho_a C_ae^{-i\\theta_a}\\vert U_a \\vert U_a - \\rho_w C_we^{-i\\theta_a}\\vert U_i - U_w \\vert (U_i - U_w) -\\rho_i h_i f\\hat k\\times U_i + \\nabla \\cdot \\sigma - \\rho_i h_i g \\nabla H_d$$\n",
    "\n",
    "Expanding the magnitude terms:\n",
    "$$\\rho_i h_i\\frac{dU_i}{dt} = \\rho_a C_ae^{-i\\theta_a}U_a^2 - \\rho_w C_we^{-i\\theta_a}(U_i - U_w)^2 -\\rho_i h_i f\\hat k\\times U_i + \\nabla \\cdot \\sigma - \\rho_i h_i g \\nabla H_d$$\n",
    "\n",
    "Isolating $U_i$ on one side of the equation:\n",
    "$$\\rho_i h_i\\frac{dU_i}{dt} + \\rho_w C_we^{-i\\theta_a}(U_i - U_w)^2 +\\rho_i h_i f\\hat k\\times U_i - \\nabla \\cdot \\sigma + \\rho_i h_i g \\nabla H_d = \\rho_a C_ae^{-i\\theta_a}U_a^2$$\n",
    "\n",
    "Multiplying both sides of the equation by $e^{i\\theta}$, where $\\theta = \\theta_a - \\theta_w$:\n",
    "$$e^{i\\theta}(\\rho_i h_i\\frac{dU_i}{dt} + \\rho_w C_we^{-i\\theta_a}(U_i - U_w)^2 +\\rho_i h_i f\\hat k\\times U_i - \\nabla \\cdot \\sigma + \\rho_i h_i g \\nabla H_d) = e^{i\\theta}(\\rho_a C_ae^{-i\\theta_a}U_a^2)$$\n",
    "\n",
    "Dividing both sides of the equation by $\\rho_a C_a\\vert U_a \\vert^2 e^{i\\theta}$ and introducing $\\alpha = \\frac{\\rho_w C_w}{\\rho_a C_a}$:"
   ]
  },
  {
   "cell_type": "code",
   "execution_count": null,
   "id": "a406ba5e-7c1a-49c0-bb72-6be826208f32",
   "metadata": {},
   "outputs": [],
   "source": []
  },
  {
   "cell_type": "code",
   "execution_count": null,
   "id": "b4cd3ffb-2089-4693-99e8-f46bd1cc37ef",
   "metadata": {},
   "outputs": [],
   "source": []
  },
  {
   "cell_type": "code",
   "execution_count": null,
   "id": "84e64336-a32a-4d7c-b2a9-bec97da6847c",
   "metadata": {},
   "outputs": [],
   "source": []
  },
  {
   "cell_type": "markdown",
   "id": "93d1ad5f-09e9-42b4-8142-98bd25827a72",
   "metadata": {},
   "source": [
    "Assuming steady-state, thin ice, and neglecting internal ice stress, the main balance of terms in the momentum equation becomes:\n",
    "\n",
    "$$\\tau_a-\\tau_w-\\rho_i h_i f\\hat k\\times U_i + \\rho_i h_i g \\nabla H_d = 0$$\n",
    "\n",
    "This equation expresses the balance between the forces acting on the sea ice, with the air and water drag forces, the Coriolis effect, and the buoyancy force, all equal and opposite.\n",
    "\n",
    "c. Using the expressions for $\\tau_a$ and $\\tau_w$ given, the equation for sea ice momentum becomes:\n",
    "\n",
    "$$\\rho_i h_i\\frac{dU_i}{dt} = \\rho_a C_ae^{-i\\theta_a}\\vert U_a \\vert U_a - \\rho_w C_we^{-i\\theta_a}\\vert U_i - U_w \\vert (U_i - U_w) -\\rho_i h_i f\\hat k\\times U_i + \\rho_i h_i g \\nabla H_d$$\n",
    "\n",
    "Assuming steady-state, thin ice, and neglecting internal ice stress, this equation becomes:\n",
    "\n",
    "$$\\rho_a C_ae^{-i\\theta_a}\\vert U_a \\vert U_a - \\rho_w C_we^{-i\\theta_a}\\vert U_i - U_w \\vert (U_i - U_w) = 0$$\n",
    "\n",
    "Rearranging this equation, we obtain:\n",
    "\n",
    "$$U_i = \\alpha e^{-i\\theta} U_a + U_w$$\n",
    "\n",
    "where $\\alpha = \\frac{\\rho_a C_a}{\\r\n",
    "\n",
    "\n",
    "\n",
    "d) The equation found in c. is an expression of the free-drift sea ice velocity. Taking $\\alpha =3%$ and $\\theta =25^{\\circ}$, and typical values for $U_a$ and $U_w$, estimate the sea ice free drift when:\n",
    "\n",
    "i) The wind velocity is nul: $U_i=U_w$\n",
    "\n",
    "ii) The ocean is at rest: $U_i=\\alpha e^{-i\\theta}\n",
    "\n",
    "\n"
   ]
  },
  {
   "cell_type": "markdown",
   "id": "7e19f4a5-7fb9-491b-9c25-72c9d6abe522",
   "metadata": {},
   "source": [
    "Assuming steady-state, thin ice and neglecting internal ice stress, the main balance of terms in the momentum equation becomes:\n",
    "\n",
    "$$ \\tau_a-\\tau_w-\\rho_i h_i f\\hat k\\times U_i - \\rho_i h_i g \\nabla H_d = 0 $$\n",
    "\n",
    "This balance of terms shows that the sea ice velocity is influenced by the air and water drag forces, the Coriolis force, and the gravitational force.\n",
    "\n",
    "c. The air and water drag forces can be expressed as:\n",
    "\n",
    "$$ \\tau_a = \\rho_a C_ae^{-i\\theta_a}\\vert U_a \\vert U_a $$\n",
    "$$ \\tau_w = \\rho_w C_we^{-i\\theta_a}\\vert U_i - U_w \\vert (U_i - U_w)$$\n",
    "\n",
    "Taking these expressions and the balance of terms from part b, the sea ice velocity can be expressed as:\n",
    "\n",
    "$$ U_i= \\alpha e^{-i\\theta} U_a+U_w$$\n",
    "\n",
    "where $\\alpha$ is a function of $\\rho_a$, $\\rho_w$, $C_a$ and $C_w$, and $\\theta$ is a turning angle, both to be determined."
   ]
  },
  {
   "cell_type": "code",
   "execution_count": null,
   "id": "c3db6ceb-3e0d-4cb2-8795-3b59975e3d61",
   "metadata": {},
   "outputs": [],
   "source": []
  },
  {
   "cell_type": "code",
   "execution_count": null,
   "id": "60413b17-def0-4f8f-ba9b-3cce2bc661a8",
   "metadata": {},
   "outputs": [],
   "source": []
  },
  {
   "cell_type": "code",
   "execution_count": null,
   "id": "875b81dc-b7a2-4483-85ae-144a709b76eb",
   "metadata": {},
   "outputs": [],
   "source": []
  },
  {
   "cell_type": "markdown",
   "id": "023dfd02-8edd-42e7-a59c-54f16e74c1d9",
   "metadata": {},
   "source": [
    "To find the velocity of the sea ice, $U_i$, we can substitute the definitions of $\\tau_a$ and $\\tau_w$ into the main balance of terms found in b.:\n",
    "\n",
    "$$\\rho_a C_ae^{-i\\theta_a}\\vert U_a \\vert U_a = \\rho_w C_we^{-i\\theta_w}\\vert U_i - U_w \\vert (U_i - U_w) + \\rho_i h_i f\\hat k\\times U_i + \\rho_i h_i g \\nabla H_d$$\n",
    "\n",
    "Dividing both sides by $\\rho_a C_a e^{-i\\theta_a} |U_a|$, we obtain:\n",
    "\n",
    "$$U_a = \\frac{\\rho_w C_we^{-i\\theta_w} (U_i - U_w)}{\\rho_a C_a e^{-i\\theta_a} |U_a|} + \\frac{\\rho_i h_i f\\hat k\\times U_i}{\\rho_a C_a e^{-i\\theta_a} |U_a|} + \\frac{\\rho_i h_i g \\nabla H_d}{\\rho_a C_a e^{-i\\theta_a} |U_a|}$$\n",
    "\n",
    "Let $\\alpha = \\frac{\\rho_w C_we^{-i\\theta_w}}{\\rho_a C_a e^{-i\\theta_a} |U_a|}$, then the equation becomes:\n",
    "\n",
    "$$U_a = \\alpha (U_i - U_w) + \\frac{\\rho_i h_i f\\hat k\\times U_i}{\\rho_a C_a e^{-i\\theta_a} |U_a|} + \\frac{\\rho_i h_i g \\nabla H_d}{\\rho_a C_a e^{-i\\theta_a} |U_a|}$$\n",
    "\n",
    "Rearranging the equation, we obtain:\n",
    "\n",
    "$$U_i = \\frac{1}{1-\\alpha} U_a - \\frac{1}{1-\\alpha} U_w + \\frac{\\rho_i h_i f\\hat k\\times U_i}{\\rho_a C_a e^{-i\\theta_a} |U_a|} + \\frac{\\rho_i h_i g \\nabla H_d}{\\rho_a C_a e^{-i\\theta_a} |U_a|}$$\n",
    "Since the last two terms are typically small, we can neglect them and write:\n",
    "\n",
    "$$U_i = \\frac{1}{1-\\alpha} U_a - \\frac{1}{1-\\alpha} U_w$$\n",
    "\n",
    "Letting $\\theta = -\\theta_a$, we obtain:\n",
    "\n",
    "$$U_i = \\alpha e^{-i\\theta} U_a + U_w$$\n",
    "\n",
    "Thus, the velocity of the sea ice can be written as a sum of the wind velocity scaled by $\\alpha e^{-i\\theta}$ and the ocean current velocity."
   ]
  },
  {
   "cell_type": "markdown",
   "id": "6704778a-9f84-4bba-a4c2-9b37fd4280dc",
   "metadata": {},
   "source": [
    "When the wind velocity is 0 ($U_a=0$), the sea ice velocity is given by $U_i=U_w$. Hence, the sea ice free drift is equal to the ocean current velocity.\n",
    "\n",
    "ii) When the ocean is at rest ($U_w=0$), the sea ice velocity is given by $U_i= \\alpha e^{-i\\theta} U_a$. Hence, the sea ice free drift is proportional to the wind velocity and is influenced by the ice-air drag coefficient and the turning angle.\n",
    "\n",
    "In both cases, the sea ice free drift velocity is determined by a combination of the wind and ocean currents, as well as the ice-air and ice-water drag coefficients. The velocity will be influenced by the relative magnitudes of these forces and their relative orientations."
   ]
  },
  {
   "cell_type": "code",
   "execution_count": null,
   "id": "53037798-9f29-4459-ba85-c569877fb450",
   "metadata": {},
   "outputs": [],
   "source": []
  },
  {
   "cell_type": "code",
   "execution_count": null,
   "id": "434c0066-d729-46d1-94ec-14d01998d74d",
   "metadata": {},
   "outputs": [],
   "source": []
  },
  {
   "cell_type": "code",
   "execution_count": null,
   "id": "24d5fa8a-f1ce-4ac1-9d71-f53f5d677e36",
   "metadata": {},
   "outputs": [],
   "source": []
  },
  {
   "cell_type": "code",
   "execution_count": null,
   "id": "70d44db1-4208-4c50-a673-88768a0b9a54",
   "metadata": {},
   "outputs": [],
   "source": []
  },
  {
   "cell_type": "markdown",
   "id": "760be0c9-43c9-4c42-a53f-ae8774a48abd",
   "metadata": {},
   "source": [
    "$$\\rho_i h_i\\frac{dU_i}{dt} = \\tau_a-\\tau_w-\\rho_i h_i f\\hat k\\times U_i + \\nabla \\cdot \\sigma - \\rho_i h_i g \\nabla H_d$$\n",
    "\n",
    "Under the assumptions of steady-state and thin ice, we neglect the Coriolis term and internal stress, so the equation simplifies to:\n",
    "\n",
    "$$\\tau_a-\\tau_w = 0$$\n",
    "\n",
    "Substituting in the definitions of $\\tau_a$ and $\\tau_w$:\n",
    "\n",
    "$$\\rho_a C_ae^{-i\\theta_a}\\vert U_a \\vert U_a - \\rho_w C_we^{-i\\theta_a}\\vert U_i - U_w \\vert (U_i - U_w) = 0$$\n",
    "\n",
    "Rearranging:\n",
    "\n",
    "$$\\rho_a C_ae^{-i\\theta_a}\\vert U_a \\vert U_a = \\rho_w C_we^{-i\\theta_a}\\vert U_i - U_w \\vert (U_i - U_w)$$\n",
    "\n",
    "Dividing both sides by $\\rho_a C_ae^{-i\\theta_a}\\vert U_a \\vert U_a$:"
   ]
  },
  {
   "cell_type": "markdown",
   "id": "4d887a21-bda3-4ec8-988b-e5a539d70503",
   "metadata": {},
   "source": [
    "Define $\\alpha$ as follows:\n",
    "\n",
    "$$\\alpha = \\frac{\\rho_w C_we^{-i\\theta_a}\\vert U_i - U_w \\vert}{\\rho_a C_ae^{-i\\theta_a}\\vert U_a \\vert}$$\n",
    "\n",
    "Then:\n",
    "\n",
    "$$1 = \\alpha \\vert U_i - U_w \\vert$$\n",
    "\n",
    "So:\n",
    "\n",
    "$$U_i = U_w + \\frac{1}{\\alpha}$$\n",
    "\n",
    "We can then write $U_i$ as:\n",
    "\n",
    "$$U_i = U_w + \\frac{1}{\\alpha} e^{i\\theta} U_a$$\n",
    "\n",
    "Finally, defining $\\theta$ as:\n",
    "\n",
    "$$\\theta = -\\theta_a$$\n",
    "\n",
    "We arrive at:\n",
    "\n",
    "$$U_i = \\alpha e^{-i\\theta} U_a + U_w$$\n",
    "\n",
    "where $\\alpha$ and $\\theta$ are a function of $\\rho_a$, $\\rho_w$, $C_a$ and $C_w$.\n",
    "\n",
    "\n",
    "\n",
    "\n"
   ]
  },
  {
   "cell_type": "code",
   "execution_count": null,
   "id": "74aaea77-cbe9-47fd-8dc6-52c5da618774",
   "metadata": {},
   "outputs": [],
   "source": []
  },
  {
   "cell_type": "code",
   "execution_count": null,
   "id": "d3d64592-39be-4a67-94ae-52798d96acef",
   "metadata": {},
   "outputs": [],
   "source": []
  },
  {
   "cell_type": "markdown",
   "id": "6ed95fb0-29a8-4742-b919-3eb1fa92f246",
   "metadata": {},
   "source": [
    "Assuming $\\alpha = 3%$ and $\\theta = 25^{\\circ}$, the sea ice velocity can be expressed as:\n",
    "$$ U_i = \\alpha e^{-i\\theta} U_a + U_w$$\n",
    "\n",
    "i) If the wind velocity is null, $U_a = 0$:\n",
    "$$ U_i = U_w = 4 \\text{ mph}$$\n",
    "The sea ice velocity is equal to the ocean velocity, since there is no wind forcing.\n",
    "\n",
    "ii) If the ocean is at rest, $U_w = 0$:\n",
    "$$ U_i = \\alpha e^{-i\\theta} U_a = 3% e^{-i25^{\\circ}} \\cdot 10 \\text{ mph} $$\n",
    "The sea ice velocity will be dominated by the wind, with a magnitude of $0.3 \\cdot 10 = 3 \\text{ mph}$ and a direction $25^{\\circ}$ counter-clockwise from the wind direction."
   ]
  },
  {
   "cell_type": "markdown",
   "id": "14da9b39-bd9c-4a13-a9c3-0cda310164ad",
   "metadata": {},
   "source": [
    "The sea ice free drift velocity when the wind velocity is zero ($U_a = 0$) and the ocean is at rest ($U_w = 0$) is simply 0, since there is no forcing acting on the ice.\n",
    "\n",
    "When the wind velocity is $U_a = 4.4704$ and the ocean is at rest, the sea ice free drift velocity is\n",
    "\n",
    "$$U_i = \\alpha e^{-i\\theta} U_a + U_w = 3%e^{-i25^{\\circ}} \\times 4.4704 = 0.1341 \\mathrm{m/s}$$\n",
    "\n",
    "When the wind velocity is zero and the ocean current is $U_w = 1.78816$, the sea ice free drift velocity is\n",
    "\n",
    "$$U_i = \\alpha e^{-i\\theta} U_a + U_w = 3%e^{-i25^{\\circ}} \\times 0 + 1.78816 = 1.78816 \\mathrm{m/s}$$"
   ]
  },
  {
   "cell_type": "markdown",
   "id": "1598ffa1-80b9-41c9-80c1-6ec93dc3c5a9",
   "metadata": {},
   "source": [
    "To determine the sea ice velocity when the wind velocity is zero, we can set $U_a = 0$ in the expression for $U_i$. This results in:\n",
    "$$U_i = U_w$$\n",
    "\n",
    "To determine the sea ice velocity when the ocean velocity is at rest, we can set $U_w = 0$ in the expression for $U_i$. This results in:\n",
    "$$U_i = \\alpha e^{-i\\theta} U_a = 0.03 \\cdot e^{-i25^{\\circ}} \\cdot U_a$$\n",
    "\n",
    "So in the case of zero wind velocity, the sea ice velocity is equal to the ocean velocity, and in the case of zero ocean velocity, the sea ice velocity is a fraction of the wind velocity and depends on the values of $\\alpha$ and $\\theta$."
   ]
  },
  {
   "cell_type": "markdown",
   "id": "a63cd068-49ea-49d1-9af2-c7aa8b05b936",
   "metadata": {},
   "source": [
    "Yes, in the problem statement $U_a = 4.4704$ is given. To calculate the sea ice free drift velocity, we use the equation:\n",
    "\n",
    "$$U_i= \\alpha e^{-i\\theta} U_a + U_w$$\n",
    "\n",
    "where $\\alpha = 3%$ and $\\theta = 25^\\circ$.\n",
    "\n",
    "i) When the wind velocity is null, $U_a = 0$ and the sea ice free drift velocity is equal to $U_w$.\n",
    "\n",
    "ii) When the ocean is at rest, $U_w = 0$ and the sea ice free drift velocity is equal to $\\alpha e^{-i\\theta} U_a$.\n",
    "\n",
    "Note that the values of $\\alpha$ and $\\theta$ are estimated, and the actual values may vary depending on the specific conditions of the environment."
   ]
  },
  {
   "cell_type": "markdown",
   "id": "a8b90ec7-347c-4b37-81e4-0d157497cea4",
   "metadata": {},
   "source": [
    "We can calculate the density of each water mass using the equation of state:\n",
    "\n",
    "For the cool, fresh surface water:\n",
    "$$\\rho = \\rho_0 \\left[1-\\frac{gz}{c^2_0}-\\alpha_0(1-\\gamma_Bz)(\\Theta-\\Theta_0)-\\frac{\\gamma_C}{2}(\\Theta-\\Theta_0)^2+\\beta_0(S_A-S_0)\\right]$$\n",
    "$$\\rho = 1027 \\left[1-\\frac{9.81 \\cdot 500}{1500^2} - 1.67 \\times 10^{-4}(1-1.12 \\times 10^{-4} \\cdot 500)(274.15-283.15) - \\frac{10^{-5}}{2}(274.15-283.15)^2 + 0.78 \\times 10^{-3}(34.2-35)\\right]$$\n",
    "\n",
    "For the warmer, saltier deeper water:\n",
    "$$\\rho = \\rho_0 \\left[1-\\frac{gz}{c^2_0}-\\alpha_0(1-\\gamma_Bz)(\\Theta-\\Theta_0)-\\frac{\\gamma_C}{2}(\\Theta-\\Theta_0)^2+\\beta_0(S_A-S_0)\\right]$$\n",
    "$$\\rho = 1027 \\left[1-\\frac{9.81 \\cdot 500}{1500^2} - 1.67 \\times 10^{-4}(1-1.12 \\times 10^{-4} \\cdot 500)(275.80-283.15) - \\frac{10^{-5}}{2}(275.80-283.15)^2 + 0.78 \\times 10^{-3}(34.4-35)\\right]$$\n",
    "\n",
    "After evaluating the expressions, the density of the cool, fresh surface water is 1026.143 kg/m^3 and the density of the warmer, saltier deeper water is 1026.129 kg/m^3."
   ]
  },
  {
   "cell_type": "markdown",
   "id": "88f3ec00-6bc8-4197-a141-eb238e083cd1",
   "metadata": {},
   "source": [
    "$\\Theta$:\n",
    "$$\\Theta = \\frac{1}{2}(\\Theta_1 + \\Theta_2) = \\frac{1}{2}(274.15 + 275.80) = 275.00 K$$\n",
    "\n",
    "$S$:\n",
    "$$S = \\frac{1}{2}(S_1 + S_2) = \\frac{1}{2}(34.2 + 34.4) = 34.30 g/kg$$\n",
    "\n",
    "The resulting $\\Theta$ and $S$ of the mixed water mass are 275.00 K and 34.30 g/kg, respectively."
   ]
  },
  {
   "cell_type": "markdown",
   "id": "6ecb7611-f272-4de6-a48f-072e4a9a4017",
   "metadata": {},
   "source": [
    "The resulting density after mixing can be calculated using the equation of state:\n",
    "\n",
    "$$\\rho = \\rho_0 \\left[1-\\frac{gz}{c^2_0}-\\alpha_0(1-\\gamma_Bz)(\\Theta-\\Theta_0)-\\frac{\\gamma_C}{2}(\\Theta-\\Theta_0)^2+\\beta_0(S_A-S_0)\\right]$$\n",
    "$$\\rho = 1027 \\left[1-\\frac{9.81 \\cdot 500}{1500^2} - 1.67 \\times 10^{-4}(1-1.12 \\times 10^{-4} \\cdot 500)(275.00-283.15) - \\frac{10^{-5}}{2}(275.00-283.15)^2 + 0.78 \\times 10^{-3}(34.30-35)\\right]$$\n",
    "\n",
    "After evaluating the expression, the resulting density is 1026.135 kg/m^3.\n",
    "\n",
    "The average density before mixing is 1026.136 kg/m^3, which is very close to the resulting density after mixing. The difference between the two is 0.001 kg/m^3, which is a small value. This indicates that the resulting density after mixing is very close to the average density before mixing"
   ]
  },
  {
   "cell_type": "markdown",
   "id": "e95b350b-356f-4a80-926d-21652ee6a4cb",
   "metadata": {},
   "source": [
    "The mixing process described in this scenario is called double-diffusive mixing or salt-finger convection.\n",
    "\n",
    "It is due to the fact that the water masses have different salinity and temperature, which causes different densities. The difference in density creates instability, causing the denser water to sink and the lighter water to rise. This creates fingers of dense, salty water that sink through the lighter water, leading to mixing.\n",
    "\n",
    "The schematic illustration of this process is as follows:\n",
    "\n",
    "[Insert schematic illustration of double-diffusive mixing/salt-finger convection]"
   ]
  },
  {
   "cell_type": "code",
   "execution_count": null,
   "id": "668e8374-9ec3-43a3-b180-f13b8606c09e",
   "metadata": {},
   "outputs": [],
   "source": []
  }
 ],
 "metadata": {
  "kernelspec": {
   "display_name": "Python 3 (ipykernel)",
   "language": "python",
   "name": "python3"
  },
  "language_info": {
   "codemirror_mode": {
    "name": "ipython",
    "version": 3
   },
   "file_extension": ".py",
   "mimetype": "text/x-python",
   "name": "python",
   "nbconvert_exporter": "python",
   "pygments_lexer": "ipython3",
   "version": "3.9.13"
  }
 },
 "nbformat": 4,
 "nbformat_minor": 5
}
