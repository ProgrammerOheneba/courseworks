{
 "cells": [
  {
   "cell_type": "code",
   "execution_count": 9,
   "id": "122f394b-0c26-4fd4-9b99-ff89b0f30def",
   "metadata": {},
   "outputs": [
    {
     "name": "stdout",
     "output_type": "stream",
     "text": [
      "[NbConvertApp] Converting notebook Lab 1.ipynb to pdf\n",
      "[NbConvertApp] Support files will be in Lab 1_files/\n",
      "[NbConvertApp] Making directory ./Lab 1_files\n",
      "[NbConvertApp] Writing 23940 bytes to notebook.tex\n",
      "[NbConvertApp] Building PDF\n",
      "Traceback (most recent call last):\n",
      "  File \"/opt/anaconda3/bin/jupyter-nbconvert\", line 11, in <module>\n",
      "    sys.exit(main())\n",
      "  File \"/opt/anaconda3/lib/python3.9/site-packages/jupyter_core/application.py\", line 269, in launch_instance\n",
      "    return super().launch_instance(argv=argv, **kwargs)\n",
      "  File \"/opt/anaconda3/lib/python3.9/site-packages/traitlets/config/application.py\", line 846, in launch_instance\n",
      "    app.start()\n",
      "  File \"/opt/anaconda3/lib/python3.9/site-packages/nbconvert/nbconvertapp.py\", line 369, in start\n",
      "    self.convert_notebooks()\n",
      "  File \"/opt/anaconda3/lib/python3.9/site-packages/nbconvert/nbconvertapp.py\", line 541, in convert_notebooks\n",
      "    self.convert_single_notebook(notebook_filename)\n",
      "  File \"/opt/anaconda3/lib/python3.9/site-packages/nbconvert/nbconvertapp.py\", line 506, in convert_single_notebook\n",
      "    output, resources = self.export_single_notebook(notebook_filename, resources, input_buffer=input_buffer)\n",
      "  File \"/opt/anaconda3/lib/python3.9/site-packages/nbconvert/nbconvertapp.py\", line 435, in export_single_notebook\n",
      "    output, resources = self.exporter.from_filename(notebook_filename, resources=resources)\n",
      "  File \"/opt/anaconda3/lib/python3.9/site-packages/nbconvert/exporters/exporter.py\", line 190, in from_filename\n",
      "    return self.from_file(f, resources=resources, **kw)\n",
      "  File \"/opt/anaconda3/lib/python3.9/site-packages/nbconvert/exporters/exporter.py\", line 208, in from_file\n",
      "    return self.from_notebook_node(nbformat.read(file_stream, as_version=4), resources=resources, **kw)\n",
      "  File \"/opt/anaconda3/lib/python3.9/site-packages/nbconvert/exporters/pdf.py\", line 183, in from_notebook_node\n",
      "    self.run_latex(tex_file)\n",
      "  File \"/opt/anaconda3/lib/python3.9/site-packages/nbconvert/exporters/pdf.py\", line 153, in run_latex\n",
      "    return self.run_command(self.latex_command, filename,\n",
      "  File \"/opt/anaconda3/lib/python3.9/site-packages/nbconvert/exporters/pdf.py\", line 110, in run_command\n",
      "    raise OSError(\"{formatter} not found on PATH, if you have not installed \"\n",
      "OSError: xelatex not found on PATH, if you have not installed xelatex you may need to do so. Find further instructions at https://nbconvert.readthedocs.io/en/latest/install.html#installing-tex.\n"
     ]
    }
   ],
   "source": [
    "!jupyter nbconvert --to pdf 'Lab 1.ipynb'"
   ]
  },
  {
   "cell_type": "code",
   "execution_count": 4,
   "id": "2d9ddeeb-00a1-49d3-a9cc-a241c429f4b9",
   "metadata": {},
   "outputs": [
    {
     "name": "stdout",
     "output_type": "stream",
     "text": [
      "Collecting rich\n",
      "  Downloading rich-13.1.0-py3-none-any.whl (238 kB)\n",
      "\u001b[2K     \u001b[90m━━━━━━━━━━━━━━━━━━━━━━━━━━━━━━━━━━━━━━━\u001b[0m \u001b[32m238.4/238.4 kB\u001b[0m \u001b[31m1.9 MB/s\u001b[0m eta \u001b[36m0:00:00\u001b[0m00:01\u001b[0m00:01\u001b[0m\n",
      "\u001b[?25hCollecting commonmark<0.10.0,>=0.9.0\n",
      "  Downloading commonmark-0.9.1-py2.py3-none-any.whl (51 kB)\n",
      "\u001b[2K     \u001b[90m━━━━━━━━━━━━━━━━━━━━━━━━━━━━━━━━━━━━━━━━\u001b[0m \u001b[32m51.1/51.1 kB\u001b[0m \u001b[31m1.5 MB/s\u001b[0m eta \u001b[36m0:00:00\u001b[0m\n",
      "\u001b[?25hRequirement already satisfied: pygments<3.0.0,>=2.6.0 in /opt/anaconda3/lib/python3.9/site-packages (from rich) (2.11.2)\n",
      "Installing collected packages: commonmark, rich\n",
      "Successfully installed commonmark-0.9.1 rich-13.1.0\n",
      "Note: you may need to restart the kernel to use updated packages.\n"
     ]
    }
   ],
   "source": [
    "pip install rich"
   ]
  },
  {
   "cell_type": "code",
   "execution_count": 10,
   "id": "ad92bf38-cbb0-4211-bd8a-01d8ecfd3a28",
   "metadata": {},
   "outputs": [
    {
     "name": "stdout",
     "output_type": "stream",
     "text": [
      "usage: jupyter-nbconvert [-h] [--debug] [--show-config] [--show-config-json]\n",
      "                         [--generate-config] [-y] [--execute] [--allow-errors]\n",
      "                         [--stdin] [--stdout] [--inplace] [--clear-output]\n",
      "                         [--no-prompt] [--no-input]\n",
      "                         [--allow-chromium-download]\n",
      "                         [--disable-chromium-sandbox] [--show-input]\n",
      "                         [--embed-images] [--log-level NbConvertApp.log_level]\n",
      "                         [--config NbConvertApp.config_file]\n",
      "                         [--to NbConvertApp.export_format]\n",
      "                         [--template TemplateExporter.template_name]\n",
      "                         [--template-file TemplateExporter.template_file]\n",
      "                         [--theme HTMLExporter.theme]\n",
      "                         [--writer NbConvertApp.writer_class]\n",
      "                         [--post NbConvertApp.postprocessor_class]\n",
      "                         [--output NbConvertApp.output_base]\n",
      "                         [--output-dir FilesWriter.build_directory]\n",
      "                         [--reveal-prefix SlidesExporter.reveal_url_prefix]\n",
      "                         [--nbformat NotebookExporter.nbformat_version]\n",
      "                         [extra_args ...]\n",
      "jupyter-nbconvert: error: unrecognized arguments: --latex-engine=pdflatex\n"
     ]
    }
   ],
   "source": [
    "!jupyter nbconvert --to pdf --latex-engine=pdflatex 'Lab 1.ipynb'\n"
   ]
  },
  {
   "cell_type": "code",
   "execution_count": 11,
   "id": "35727f76-ada8-4279-87f5-7891b1d413fc",
   "metadata": {},
   "outputs": [
    {
     "name": "stdout",
     "output_type": "stream",
     "text": [
      "Traceback (most recent call last):\n",
      "  File \"/opt/anaconda3/lib/python3.9/site-packages/traitlets/traitlets.py\", line 537, in get\n",
      "    value = obj._trait_values[self.name]\n",
      "KeyError: 'template_paths'\n",
      "\n",
      "During handling of the above exception, another exception occurred:\n",
      "\n",
      "Traceback (most recent call last):\n",
      "  File \"/opt/anaconda3/bin/jupyter-nbconvert\", line 11, in <module>\n",
      "    sys.exit(main())\n",
      "  File \"/opt/anaconda3/lib/python3.9/site-packages/jupyter_core/application.py\", line 269, in launch_instance\n",
      "    return super().launch_instance(argv=argv, **kwargs)\n",
      "  File \"/opt/anaconda3/lib/python3.9/site-packages/traitlets/config/application.py\", line 846, in launch_instance\n",
      "    app.start()\n",
      "  File \"/opt/anaconda3/lib/python3.9/site-packages/nbconvert/nbconvertapp.py\", line 369, in start\n",
      "    self.convert_notebooks()\n",
      "  File \"/opt/anaconda3/lib/python3.9/site-packages/nbconvert/nbconvertapp.py\", line 536, in convert_notebooks\n",
      "    self.exporter = cls(config=self.config)\n",
      "  File \"/opt/anaconda3/lib/python3.9/site-packages/nbconvert/exporters/templateexporter.py\", line 332, in __init__\n",
      "    super().__init__(config=config, **kw)\n",
      "  File \"/opt/anaconda3/lib/python3.9/site-packages/nbconvert/exporters/exporter.py\", line 118, in __init__\n",
      "    self._init_preprocessors()\n",
      "  File \"/opt/anaconda3/lib/python3.9/site-packages/nbconvert/exporters/templateexporter.py\", line 499, in _init_preprocessors\n",
      "    conf = self._get_conf()\n",
      "  File \"/opt/anaconda3/lib/python3.9/site-packages/nbconvert/exporters/templateexporter.py\", line 517, in _get_conf\n",
      "    for path in map(Path, self.template_paths):\n",
      "  File \"/opt/anaconda3/lib/python3.9/site-packages/traitlets/traitlets.py\", line 577, in __get__\n",
      "    return self.get(obj, cls)\n",
      "  File \"/opt/anaconda3/lib/python3.9/site-packages/traitlets/traitlets.py\", line 540, in get\n",
      "    default = obj.trait_defaults(self.name)\n",
      "  File \"/opt/anaconda3/lib/python3.9/site-packages/traitlets/traitlets.py\", line 1580, in trait_defaults\n",
      "    return self._get_trait_default_generator(names[0])(self)\n",
      "  File \"/opt/anaconda3/lib/python3.9/site-packages/traitlets/traitlets.py\", line 977, in __call__\n",
      "    return self.func(*args, **kwargs)\n",
      "  File \"/opt/anaconda3/lib/python3.9/site-packages/nbconvert/exporters/templateexporter.py\", line 528, in _template_paths\n",
      "    template_names = self.get_template_names()\n",
      "  File \"/opt/anaconda3/lib/python3.9/site-packages/nbconvert/exporters/templateexporter.py\", line 610, in get_template_names\n",
      "    raise ValueError('No template sub-directory with name %r found in the following paths:\\n\\t%s' % (base_template, paths))\n",
      "ValueError: No template sub-directory with name 'jupyter-book' found in the following paths:\n",
      "\t/Users/thomas/Library/Jupyter\n",
      "\t/Users/thomas/.local/share/jupyter\n",
      "\t/opt/anaconda3/share/jupyter\n",
      "\t/usr/local/share/jupyter\n",
      "\t/usr/share/jupyter\n"
     ]
    }
   ],
   "source": [
    "!jupyter nbconvert --to pdf 'Lab 1.ipynb' --template jupyter-book\n"
   ]
  },
  {
   "cell_type": "code",
   "execution_count": null,
   "id": "714b14ec-6201-4009-b4f4-534f1ac1924a",
   "metadata": {},
   "outputs": [],
   "source": []
  }
 ],
 "metadata": {
  "kernelspec": {
   "display_name": "Python 3 (ipykernel)",
   "language": "python",
   "name": "python3"
  },
  "language_info": {
   "codemirror_mode": {
    "name": "ipython",
    "version": 3
   },
   "file_extension": ".py",
   "mimetype": "text/x-python",
   "name": "python",
   "nbconvert_exporter": "python",
   "pygments_lexer": "ipython3",
   "version": "3.9.13"
  }
 },
 "nbformat": 4,
 "nbformat_minor": 5
}
