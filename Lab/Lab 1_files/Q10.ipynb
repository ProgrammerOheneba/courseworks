{
 "cells": [
  {
   "cell_type": "markdown",
   "id": "bcd80493-a93e-475c-a543-2352c2ff2343",
   "metadata": {},
   "source": [
    "**QUESTION 10.**"
   ]
  },
  {
   "cell_type": "markdown",
   "id": "4e537c2a-db4d-4e05-872c-a3768b3eb08c",
   "metadata": {},
   "source": [
    "Given the equation of state:\n",
    "$$\\rho = \\rho_0 \\left[1-\\frac{gz}{c_0^2}-\\alpha_0(1-\\gamma_Bz)(\\Theta-\\Theta_0)-\\frac{\\gamma_C}{2}(\\Theta-\\Theta_0)^2+\\beta_0(S_A-S_0)\\right]$$"
   ]
  },
  {
   "cell_type": "markdown",
   "id": "2be31b30-83a3-42a1-88f6-a1ecec55a099",
   "metadata": {},
   "source": [
    "**Declaring Contants**"
   ]
  },
  {
   "cell_type": "code",
   "execution_count": 1,
   "id": "e2fd5891-96ec-42ef-a88f-f90a42094553",
   "metadata": {},
   "outputs": [],
   "source": [
    "#Parameter = value                Unit    \n",
    "rho_0 = 1027                      #........kgm^(-3)\n",
    "g = 9.81                          #........ms^(-2)\n",
    "c_0 = 1500                        #........ms^(-2)\n",
    "alpha_0 = 1.67*10**(-4)           #........K^(-1)\n",
    "gamma_B = 1.12*10**(-4)           #........m^(-1)\n",
    "gamma_C = 10**(-5)                #........K^(-2)\n",
    "beta_0 = 0.78*10**(-3)            #........(g/kg)^(-1)\n",
    "Theta_0 = 10                      #........deg.C\n",
    "S_0 = 35                          #........g/kg"
   ]
  },
  {
   "cell_type": "markdown",
   "id": "047a7138-d4dc-42bf-a64a-29524ffdd16f",
   "metadata": {},
   "source": [
    "**Declaring the given values for Fresh and Saltier water**"
   ]
  },
  {
   "cell_type": "code",
   "execution_count": 2,
   "id": "a6d9bb10-98e7-4f8e-9dbd-7534acdb4212",
   "metadata": {},
   "outputs": [],
   "source": [
    "# For cool, fresh surface water \n",
    "S_A_f = 34.2                      #........g/kg\n",
    "Theta_f = 1                       #........deg.C\n",
    "\n",
    "# For warmer, saltier deeper water\n",
    "S_A_s = 34.4                      #........g/kg\n",
    "Theta_s = 2.65                    #........deg.C\n",
    "\n",
    "#isopycnal surfaces at about 500m\n",
    "z = 500                           #........m"
   ]
  },
  {
   "cell_type": "code",
   "execution_count": 3,
   "id": "b9d0b336-9c22-4b2c-9f32-895ec5b26b86",
   "metadata": {},
   "outputs": [],
   "source": [
    "# Converting degC to Kelvin for the temperature values\n",
    "Theta_0 = 273.15 + Theta_0 \n",
    "Theta_f = 273.15 + Theta_f\n",
    "Theta_s = 273.15 + Theta_s"
   ]
  },
  {
   "cell_type": "code",
   "execution_count": null,
   "id": "ff642d9e-d1ae-45fb-9ba3-753b334fc31f",
   "metadata": {},
   "outputs": [],
   "source": []
  },
  {
   "cell_type": "markdown",
   "id": "4b886288-b0cd-40d8-9435-dc57d884eab8",
   "metadata": {},
   "source": [
    "**a. The two water masses meet at about 500 m depth. Calculate the density of each before mixing. (Round off to 3 decimals).**"
   ]
  },
  {
   "cell_type": "code",
   "execution_count": 4,
   "id": "8db1485f-ea05-44a3-b490-12762c65d73b",
   "metadata": {},
   "outputs": [
    {
     "name": "stdout",
     "output_type": "stream",
     "text": [
      "The density for cool and fresh surface water before mixing is 1025.161 kg/m^3\n",
      "The density for warmer and  saltier deeper water before mixing is 1025.193 kg/m^3\n"
     ]
    }
   ],
   "source": [
    "# For cool, fresh surface water \n",
    "\n",
    "rho_f=rho_0*(1-((g*z)/c_0**2)-(alpha_0*(1-gamma_B*z)*(Theta_f-Theta_0))-((gamma_C/2)*(Theta_f-Theta_0)**2)+beta_0*(S_A_f-S_0))\n",
    "print(f'The density for cool and fresh surface water before mixing is {rho_f:.3f} kg/m^3')\n",
    "\n",
    "# For warmer, saltier deeper water\n",
    "rho_s=rho_0*(1-((g*z)/c_0**2)-(alpha_0*(1-gamma_B*z)*(Theta_s-Theta_0))-((gamma_C/2)*(Theta_s-Theta_0)**2)+beta_0*(S_A_s-S_0))\n",
    "print(f'The density for warmer and  saltier deeper water before mixing is {rho_s:.3f} kg/m^3')"
   ]
  },
  {
   "cell_type": "code",
   "execution_count": null,
   "id": "9eaee5cd-678d-4ac5-b6f3-5e794b5df734",
   "metadata": {},
   "outputs": [],
   "source": []
  },
  {
   "cell_type": "markdown",
   "id": "ec7ba910-ef11-4414-a059-e664dd809adf",
   "metadata": {},
   "source": [
    "**b. Now let the two water masses mix with a 50/50 mixing ratio. What is the resulting Θ and S of the mixed water mass?.** "
   ]
  },
  {
   "cell_type": "code",
   "execution_count": 5,
   "id": "1ac88e83-17d8-4282-ae0d-7911f8e5633b",
   "metadata": {},
   "outputs": [
    {
     "name": "stdout",
     "output_type": "stream",
     "text": [
      "The resulting Θ of the mixed water mass is 274.975 K or 1.825 deg.C\n",
      "The resulting S of the mixed water mass is 34.300 g/kg\n"
     ]
    }
   ],
   "source": [
    "#declaring the resulting variables,  assigning values and printing the results\n",
    "\n",
    "Theta_res=(Theta_s+Theta_f)/2\n",
    "print(f'The resulting Θ of the mixed water mass is {Theta_res:.3f} K or {Theta_res-273.15:.3f} deg.C')\n",
    "\n",
    "S_res=(S_A_s+S_A_f)/2\n",
    "print(f'The resulting S of the mixed water mass is {S_res:.3f} g/kg')"
   ]
  },
  {
   "cell_type": "code",
   "execution_count": null,
   "id": "c44f5af9-17b2-4f63-8c01-31216c65f48a",
   "metadata": {},
   "outputs": [],
   "source": []
  },
  {
   "cell_type": "markdown",
   "id": "d81266b4-b6a3-4045-b0b9-90539ba3d01b",
   "metadata": {},
   "source": [
    "**c. What is the resulting density after mixing? How does it compare to the average density before mixing? (Round off to 3 decimals)**"
   ]
  },
  {
   "cell_type": "code",
   "execution_count": 6,
   "id": "1fa675ee-0afa-4138-9c81-88d246999cc8",
   "metadata": {},
   "outputs": [
    {
     "name": "stdout",
     "output_type": "stream",
     "text": [
      "The resulting density after mixing is 1025.181 kg/m^3\n",
      "The average density before mixing is 1025.177 kg/m^3\n"
     ]
    }
   ],
   "source": [
    "#since our resulting  Θ and S are known from b, we just plug it into the equation\n",
    "#solving for our resulting density:\n",
    "#Let\n",
    "Theta=Theta_res\n",
    "S_A=S_res\n",
    "rho_res=rho_0*(1-((g*z)/c_0**2)-(alpha_0*(1-gamma_B*z)*(Theta-Theta_0))-((gamma_C/2)*(Theta-Theta_0)**2)+beta_0*(S_A-S_0))\n",
    "print(f'The resulting density after mixing is {rho_res:.3f} kg/m^3')\n",
    "\n",
    "#solving for our average\n",
    "rho_avg=(rho_f+rho_s)/2\n",
    "print(f'The average density before mixing is {rho_avg:.3f} kg/m^3')"
   ]
  },
  {
   "cell_type": "code",
   "execution_count": 7,
   "id": "88c37d19-3135-434d-8d89-41f7c2f2d0d7",
   "metadata": {},
   "outputs": [
    {
     "name": "stdout",
     "output_type": "stream",
     "text": [
      "The difference between these two densities is 0.003\n"
     ]
    }
   ],
   "source": [
    "#Difference between the two densities\n",
    "rho_diff=rho_res-rho_avg\n",
    "print(f'The difference between these two densities is {rho_diff:.3f}')"
   ]
  },
  {
   "cell_type": "code",
   "execution_count": null,
   "id": "ef250aa4-5b28-4aa7-b4c5-88365f9c0bac",
   "metadata": {},
   "outputs": [],
   "source": []
  },
  {
   "cell_type": "code",
   "execution_count": null,
   "id": "d0dc68b2-68df-4a60-b80d-e2b9dc1a0d52",
   "metadata": {},
   "outputs": [],
   "source": []
  }
 ],
 "metadata": {
  "kernelspec": {
   "display_name": "Python 3 (ipykernel)",
   "language": "python",
   "name": "python3"
  },
  "language_info": {
   "codemirror_mode": {
    "name": "ipython",
    "version": 3
   },
   "file_extension": ".py",
   "mimetype": "text/x-python",
   "name": "python",
   "nbconvert_exporter": "python",
   "pygments_lexer": "ipython3",
   "version": "3.9.13"
  }
 },
 "nbformat": 4,
 "nbformat_minor": 5
}
