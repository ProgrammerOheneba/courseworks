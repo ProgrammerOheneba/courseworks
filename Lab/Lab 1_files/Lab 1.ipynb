{
 "cells": [
  {
   "cell_type": "markdown",
   "id": "0a994f49-5326-4850-be1b-672ad03478ae",
   "metadata": {},
   "source": [
    "## NAME: THOMAS AMO KYEIMIAH \n",
    "-----"
   ]
  },
  {
   "cell_type": "markdown",
   "id": "52e3250b-9edb-4aa9-8f73-9047391cd23e",
   "metadata": {},
   "source": [
    "```STUDENT ID: 261121054```\n",
    "\n",
    "```COURSE: ATOC 558```\n",
    "\n",
    "```LAB 1```\n"
   ]
  },
  {
   "cell_type": "code",
   "execution_count": 1,
   "id": "a224e388-d0dd-4bd0-ba09-db8cde6c8068",
   "metadata": {},
   "outputs": [],
   "source": [
    "# importing libraries\n",
    "from numpy import *\n",
    "import matplotlib.pyplot as  plt\n",
    "from scipy.fftpack import fft, ifft, fftfreq"
   ]
  },
  {
   "cell_type": "markdown",
   "id": "b325ab3c-d88e-4abb-834f-9cd00bbe51cb",
   "metadata": {},
   "source": [
    "```Data Analysis```"
   ]
  },
  {
   "cell_type": "code",
   "execution_count": 2,
   "id": "2579213b-98c7-4ef6-95f5-94bc6bdac36b",
   "metadata": {},
   "outputs": [],
   "source": [
    "# Define the spatial grid\n",
    "Lx = 1  # domain size\n",
    "Nx = 96  # number of spatial grid points\n",
    "dx = Lx / (Nx - 1)  # spatial grid spacing\n",
    "x = linspace(0, Lx, Nx)\n",
    "\n",
    "# Define the advection velocity\n",
    "c = 0.01  # m/s\n",
    "\n",
    "# Define the initial condition\n",
    "a = 0.1 * Lx\n",
    "f = exp(-((x - Lx/2)**2) / a**2)\n",
    "\n",
    "# Define the time\n",
    "t = 0.5 * Lx / c\n",
    "\n",
    "# Define the Fourier Transform of the initial condition\n",
    "F = fft(f)\n",
    "\n",
    "# Define the Fourier Transform of the spatial operator\n",
    "k = 2*pi*fftfreq(Nx, d=dx)\n",
    "K = 1j*k\n",
    "\n",
    "# Define the time-stepping operator\n",
    "t_step = exp(-c*t*K)\n",
    "\n",
    "# Define the Fourier Transform of the analytical solution\n",
    "Psi = t_step*F\n",
    "\n",
    "# Define the analytical solution\n",
    "psi = ifft(Psi)"
   ]
  },
  {
   "cell_type": "markdown",
   "id": "88c0ddbf-4ee9-426a-a19c-e034cba89326",
   "metadata": {},
   "source": [
    "```Plotting```"
   ]
  },
  {
   "cell_type": "code",
   "execution_count": 3,
   "id": "38baa9fa-99eb-4762-ba5b-44c5ed98f24e",
   "metadata": {},
   "outputs": [
    {
     "data": {
      "image/png": "[encoded data removed]",
      "text/plain": [
       "<Figure size 550x400 with 1 Axes>"
      ]
     },
     "metadata": {},
     "output_type": "display_data"
    }
   ],
   "source": [
    "# Plot the solution\n",
    "plt.figure(figsize=(5.5,4))\n",
    "plt.plot(x, f, label='t=0', color='blue', linewidth=2.5)\n",
    "plt.plot(x, psi, label='t=0.5Lx/c)', color='red', linewidth=2.5)\n",
    "plt.xlim([0, max(x)])\n",
    "plt.ylim([0, max(psi)])\n",
    "plt.xlabel('x')\n",
    "plt.ylabel('ψ')\n",
    "plt.legend(loc='upper right', borderpad=0.4)\n",
    "plt.savefig('lab1.jpg', dpi=300)\n",
    "plt.show()"
   ]
  },
  {
   "cell_type": "code",
   "execution_count": null,
   "id": "b31e364a-6952-4325-8844-3fdb49bcd4e6",
   "metadata": {},
   "outputs": [],
   "source": [
    "import numpy as np\n",
    "import matplotlib.pyplot as plt\n",
    "\n",
    "# Define the spatial grid\n",
    "Lx = 1  # domain size\n",
    "Nx = 96  # number of spatial grid points\n",
    "dx = Lx / (Nx - 1)  # spatial grid spacing\n",
    "x = np.linspace(0, Lx, Nx)\n",
    "\n",
    "# Define the advection velocity\n",
    "c = 0.01  # m/s\n",
    "\n",
    "# Define the initial condition\n",
    "a = 0.1 * Lx\n",
    "f = np.exp(-((x - Lx/2)**2) / a**2)\n",
    "\n",
    "# Define the time\n",
    "t = 0.5 * Lx / c\n",
    "\n",
    "# Define the Fourier Transform of the initial condition\n",
    "F = np.fft.fft(f)\n",
    "\n",
    "# Define the Fourier Transform of the spatial operator\n",
    "k = 2*np.pi*np.fft.fftfreq(Nx, d=dx)\n",
    "K = 1j*k\n",
    "\n",
    "# Define the time-stepping operator for upstream scheme\n",
    "t_step = np.zeros(Nx)\n",
    "for i in range(Nx):\n",
    "    if c * k[i] >= 0:\n",
    "        t_step[i] = np.exp(-c*t*K[i])\n",
    "    else:\n",
    "        t_step[i] = 0\n",
    "\n",
    "# Define the Fourier Transform of the analytical solution\n",
    "Psi = t_step * F\n",
    "\n",
    "# Define the analytical solution\n",
    "psi = np.fft.ifft(Psi)\n",
    "\n",
    "# Plot the solution\n",
    "plt.figure(figsize=(5.5,4))\n",
    "plt.plot(x, f, label='t=0', color='blue', linewidth=2.5)\n",
    "plt.plot(x, psi.real, label='t=0.5Lx/c)', color='red', linewidth=2.5)\n",
    "plt.xlim([0, max(x)])\n",
    "plt.ylim([0, max(psi.real)])\n",
    "plt.xlabel('x')\n",
    "plt.ylabel('ψ')\n",
    "plt.legend(loc='upper right', borderpad=0.4)\n",
    "plt.show()\n"
   ]
  }
 ],
 "metadata": {
  "kernelspec": {
   "display_name": "Python 3 (ipykernel)",
   "language": "python",
   "name": "python3"
  },
  "language_info": {
   "codemirror_mode": {
    "name": "ipython",
    "version": 3
   },
   "file_extension": ".py",
   "mimetype": "text/x-python",
   "name": "python",
   "nbconvert_exporter": "python",
   "pygments_lexer": "ipython3",
   "version": "3.9.13"
  }
 },
 "nbformat": 4,
 "nbformat_minor": 5
}
