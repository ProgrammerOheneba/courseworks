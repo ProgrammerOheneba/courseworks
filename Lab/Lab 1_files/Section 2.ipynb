{
 "cells": [
  {
   "cell_type": "markdown",
   "id": "06e8b005-c05f-4998-a8d4-83ac7523a949",
   "metadata": {},
   "source": [
    "## Session #2"
   ]
  },
  {
   "cell_type": "markdown",
   "id": "a6e2c208-f019-4b3b-888a-2f380831200a",
   "metadata": {},
   "source": [
    "### S2.I"
   ]
  },
  {
   "cell_type": "code",
   "execution_count": null,
   "id": "c613f4b8-5305-45cd-91a0-194e64e56b0d",
   "metadata": {},
   "outputs": [],
   "source": [
    "%pip install MITgcmutils"
   ]
  },
  {
   "cell_type": "code",
   "execution_count": null,
   "id": "44a28461-159c-458d-924d-866515678597",
   "metadata": {
    "tags": []
   },
   "outputs": [],
   "source": [
    "import MITgcmutils\n",
    "import numpy as np\n",
    "import math\n",
    "import matplotlib.pyplot as plt\n",
    "from MITgcmutils import jmd95\n",
    "import os\n",
    "# Specify your file name and possibly the path to this file\n",
    "filein = 'trenberth_taux.bin'\n",
    "# MITgcm likes its binary in big endian, float ('>f') or double ('>d')\n",
    "raw = np.fromfile(filein, dtype='>f')\n",
    "# reshape raw to a numpy array of dimensions (12,40, 90) (time,lat,lon)\n",
    "taux = np.reshape(raw, (12,40,90))"
   ]
  },
  {
   "cell_type": "code",
   "execution_count": null,
   "id": "00b0371f-e386-4bf0-a27e-92493c4bf814",
   "metadata": {},
   "outputs": [],
   "source": [
    "spacing = (80 - (-80)) / (40-1) \n",
    "index = (-(30) - (-80)) / spacing \n",
    "index=math.floor(index)\n",
    "print(index)"
   ]
  },
  {
   "cell_type": "code",
   "execution_count": null,
   "id": "2485fc92-c314-4e3a-8b95-5ead33bf6441",
   "metadata": {},
   "outputs": [],
   "source": [
    "#-----------lat-----------\n",
    "lat=np.arange(0,40)\n",
    "\n",
    "#-----------ctrl----------\n",
    "taux_zonal_average=np.mean(taux, axis=(0,2))\n",
    "\n",
    "#----------strong---------\n",
    "taux_strong=np.copy(taux)\n",
    "taux_strong[:,0:index,:]=taux_strong[:,0:index,:]*1.5\n",
    "taux_strong_zonal_average=np.mean(taux_strong,axis=(0,2))\n",
    "\n",
    "#-----------weak----------\n",
    "taux_weak=np.copy(taux)\n",
    "taux_weak[:,0:index,:]=taux_weak[:,0:index,:]*0.5\n",
    "taux_weak_zonal_average=np.mean(taux_weak,axis=(0,2))\n",
    "\n",
    "#----------plots----------\n",
    "fig,ax=plt.subplots(2,1, figsize=(10,12))\n",
    "#----------1st----------\n",
    "ax[0].plot(lat,taux_strong_zonal_average,label='strong')\n",
    "ax[0].plot(lat,taux_zonal_average,label='ctrl')\n",
    "ax[0].set_title('Zonally averaged annual zonal wind stress profiles of \\n the ctrl and sensitivity experiment (Strong)')\n",
    "ax[0].set_ylabel('wind stress')\n",
    "ax[0].set_xlabel('Latitude')\n",
    "ax[0].legend()\n",
    "ax[0].grid(alpha=0.3)\n",
    "#----------2nd----------\n",
    "ax[1].plot(lat,taux_weak_zonal_average, label='weak')\n",
    "ax[1].plot(lat,taux_zonal_average,label='ctrl')\n",
    "ax[1].set_title('Zonally averaged annual zonal wind stress profiles of \\n the ctrl and sensitivity experiment (Weak)')\n",
    "ax[1].set_ylabel('wind stress')\n",
    "ax[1].set_xlabel('Latitude')\n",
    "ax[1].legend()\n",
    "ax[1].grid(alpha=0.3)\n",
    "#----------adjust----------\n",
    "plt.subplots_adjust(hspace=0.33)\n",
    "plt.show()"
   ]
  },
  {
   "cell_type": "code",
   "execution_count": null,
   "id": "23ebce3a-fa47-47b0-a67e-a937e8061492",
   "metadata": {},
   "outputs": [],
   "source": [
    "# record your new forcing file in binary format\n",
    "\n",
    "#path2file='/home/jovyan/MITgcm/my__exp/strong_wind'\n",
    "#taux_strong.astype(\">f4\").tofile(path2file + '/taux_strong.bin')\n",
    "#path2file='/home/jovyan/MITgcm/my__exp/weak_wind'\n",
    "#taux_weak.astype(\">f4\").tofile(path2file + '/taux_weak.bin')"
   ]
  },
  {
   "cell_type": "code",
   "execution_count": null,
   "id": "03002e99-363f-4f49-9374-e6e683ae53d7",
   "metadata": {},
   "outputs": [],
   "source": []
  },
  {
   "cell_type": "markdown",
   "id": "4f37eb44-f211-4aec-83b5-9f3ecc5712a0",
   "metadata": {},
   "source": [
    "### S2.II"
   ]
  },
  {
   "cell_type": "code",
   "execution_count": null,
   "id": "991637f7-12b7-4159-9aba-29892d6cdcfb",
   "metadata": {},
   "outputs": [],
   "source": [
    "#-----------loading control data-----------\n",
    "ctrl = '/home/jovyan/MITgcm/my__exp/ctrl/'\n",
    "# open grid* files and load global X coordinate of cell center\n",
    "nc = MITgcmutils.mnc_files(ctrl + 'mnc*/grid.t*.nc')\n",
    "xc = nc.variables['XC'][:]\n",
    "yc = nc.variables['YC'][:]\n",
    "nc.close()\n",
    "# open Diag* files and load global potential temperature\n",
    "ncv = MITgcmutils.mnc_files(ctrl + 'mnc*/Diag.*.nc')\n",
    "ncw = MITgcmutils.mnc_files(ctrl + 'mnc*/Sdiag_MLD.*.nc') \n",
    "ptemp_ctrl = ncv.variables['THETA'][:]\n",
    "salt_ctrl=ncv.variables['SALT'][:]\n",
    "Age_tracer_ctrl=ncv.variables['TRAC01'][:]\n",
    "mld_ctrl=ncw.variables['MXLDEPTH'][:]\n",
    "ncv.close()\n",
    "ncw.close()\n",
    "#--------loading observational data---------\n",
    "filein = '/home/jovyan/MITgcm/my__exp/ctrl/lev_t.bin'\n",
    "filein2 = '/home/jovyan/MITgcm/my__exp/ctrl/lev_s.bin'\n",
    "# MITgcm likes its binary in big endian, float ('>f') or double ('>d')\n",
    "raw = np.fromfile(filein, dtype='>f')\n",
    "raw2 = np.fromfile(filein2, dtype='>f')\n",
    "# reshape raw to a numpy array of dimensions (12,40, 90) (time,lat,lon)\n",
    "ptemp_obs = np.reshape(raw, (12,15,40,90))\n",
    "salt_obs = np.reshape(raw2, (12,15,40,90))"
   ]
  },
  {
   "cell_type": "code",
   "execution_count": null,
   "id": "f3e9014d-7ec3-4e3b-ada9-1bffb5a5e66d",
   "metadata": {},
   "outputs": [],
   "source": [
    "#Global domain calculation\n",
    "ptemp_ctrl_g=np.mean(ptemp_ctrl, axis=0)\n",
    "salt_ctrl_g=np.mean(salt_ctrl, axis=0)\n",
    "\n",
    "ptemp_obs_g=np.mean(ptemp_obs, axis=0)\n",
    "salt_obs_g=np.mean(salt_obs, axis=0)\n",
    "\n",
    "ptemp_ctrl_obs_g = ptemp_ctrl_g - ptemp_obs_g\n",
    "salt_ctrl_obs_g = salt_ctrl_g - salt_obs_g\n",
    "\n",
    "#southern ocean calculation\n",
    "ptemp_ctrl_s=ptemp_ctrl_g[:,0:index,:]\n",
    "salt_ctrl_s=salt_ctrl_g[:,0:index,:]\n",
    "\n",
    "ptemp_obs_s=ptemp_obs_g[:,0:index,:]\n",
    "salt_obs_s=salt_obs_g[:,0:index,:]\n",
    "\n",
    "ptemp_ctrl_obs_s = ptemp_ctrl_s- ptemp_obs_s\n",
    "salt_ctrl_obs_s = salt_ctrl_s - salt_obs_s\n",
    "\n",
    "xcc=xc[0:index]\n",
    "ycc=yc[0:index]"
   ]
  },
  {
   "cell_type": "code",
   "execution_count": null,
   "id": "d64bc304-53a5-4857-bac0-8998b3e9bac0",
   "metadata": {},
   "outputs": [],
   "source": [
    "#Global domain\n",
    "\n",
    "#Potential temp\n",
    "fig, ax=plt.subplots(2,3, figsize=(12,5))\n",
    "plt.suptitle('Control Experiment and Observation Potential Temperature and Salinity\\n for Global Domain'.upper(),\n",
    "             fontweight='bold')\n",
    "a=ax[0,0].pcolormesh(xc, yc, ptemp_obs_g[0,:,:], cmap='plasma',  vmax=30)\n",
    "ax[0,0].set_title('observations')\n",
    "ax[0,0].set_ylabel('latitude')\n",
    "ax[0,0].text(-150,-10,'SST', rotation='vertical', fontweight='bold')\n",
    "plt.colorbar(a, label='$^{\\circ}$ C')\n",
    "\n",
    "b=ax[0,1].pcolormesh(xc, yc, ptemp_ctrl_g[0,:,:], cmap='plasma',  vmax=30)\n",
    "ax[0,1].set_title('Ctrl')\n",
    "plt.colorbar(b, label='$^{\\circ}$ C')\n",
    "\n",
    "c=ax[0,2].pcolormesh(xc, yc, ptemp_ctrl_obs_g[0,:,:], cmap='coolwarm', vmin=-2, vmax=2)\n",
    "ax[0,2].set_title('Ctrl - observations')\n",
    "plt.colorbar(c, label='$^{\\circ}$ C')\n",
    "\n",
    "\n",
    "#salinity\n",
    "d=ax[1,0].pcolormesh(xc, yc, salt_obs_g[0,:,:],  cmap='viridis', vmin=32, vmax=37)\n",
    "#ax[1,0].set_title('observations')\n",
    "ax[1,0].set_xlabel('longitude')\n",
    "ax[1,0].set_ylabel('latitude')\n",
    "ax[1,0].text(-150,-10,'SSS', rotation='vertical', fontweight='bold')\n",
    "plt.colorbar(d, label='PSU')\n",
    "\n",
    "e=ax[1,1].pcolormesh(xc, yc, salt_ctrl_g[0,:,:], cmap='viridis', vmin=32, vmax=37)\n",
    "#ax[1,1].set_title('Ctrl')\n",
    "ax[1,1].set_xlabel('longitude')\n",
    "plt.colorbar(e, label='PSU')\n",
    "\n",
    "f=ax[1,2].pcolormesh(xc, yc, salt_ctrl_obs_g[0,:,:], cmap='coolwarm', vmin=-1, vmax=1)\n",
    "#ax[1,2].set_title('Ctrl - observations')\n",
    "ax[1,2].set_xlabel('longitude')\n",
    "plt.colorbar(f, label='PSU')\n",
    "\n",
    "#----------adjust----------\n",
    "plt.subplots_adjust(top=0.82, wspace=0.2)\n",
    "plt.show()"
   ]
  },
  {
   "cell_type": "code",
   "execution_count": null,
   "id": "89949108-8b36-4e5e-bfa3-9502604cc54a",
   "metadata": {},
   "outputs": [],
   "source": [
    "#Southern ocean domain\n",
    "\n",
    "#Potential temp\n",
    "fig, ax=plt.subplots(2,3, figsize=(12,5), sharex=True, sharey=True)\n",
    "plt.suptitle('Model and Observational Field Sea surface temperature and Salinity'.upper(),\n",
    "             fontweight='bold', y=1.01)\n",
    "a=ax[0,0].pcolormesh(xcc, ycc, ptemp_obs_s[0,:,:], cmap='plasma',  vmin=0, vmax=20)\n",
    "ax[0,0].set_title('observations')\n",
    "ax[0,0].set_ylabel('Latitude')\n",
    "ax[0,0].text(-150,-60,'SST', rotation='vertical', fontweight='bold')\n",
    "plt.colorbar(a, label='$^{\\circ}$ C')\n",
    "\n",
    "b=ax[0,1].pcolormesh(xcc, ycc, ptemp_ctrl_s[0,:,:], cmap='plasma',  vmin=0, vmax=20)\n",
    "ax[0,1].set_title('Ctrl')\n",
    "plt.colorbar(b, label='$^{\\circ}$ C')\n",
    "\n",
    "c=ax[0,2].pcolormesh(xcc, ycc, ptemp_ctrl_obs_s[0,:,:], cmap='coolwarm', vmin=-2, vmax=2)\n",
    "ax[0,2].set_title('Ctrl - observations')\n",
    "plt.colorbar(c, label='$^{\\circ}$ C')\n",
    "\n",
    "\n",
    "#salinity\n",
    "d=ax[1,0].pcolormesh(xcc, ycc, salt_obs_s[0,:,:],  cmap='viridis', vmin=33, vmax=37)\n",
    "#ax[1,0].set_title('observations')\n",
    "ax[1,0].set_xlabel('Longitude')\n",
    "ax[1,0].set_ylabel('Latitude')\n",
    "ax[1,0].text(-150,-60,'SSS', rotation='vertical', fontweight='bold')\n",
    "plt.colorbar(d, label='PSU')\n",
    "\n",
    "e=ax[1,1].pcolormesh(xcc, ycc, salt_ctrl_s[0,:,:], cmap='viridis',vmin=33, vmax=37)\n",
    "#ax[1,1].set_title('Ctrl')\n",
    "ax[1,1].set_xlabel('Longitude')\n",
    "plt.colorbar(e, label='PSU')\n",
    "\n",
    "f=ax[1,2].pcolormesh(xcc, ycc, salt_ctrl_obs_s[0,:,:], cmap='coolwarm', vmin=-1, vmax=1)\n",
    "#ax[1,2].set_title('Ctrl - observations')\n",
    "ax[1,2].set_xlabel('Longitude')\n",
    "plt.colorbar(f, label='PSU')\n",
    "\n",
    "#----------adjust----------\n",
    "plt.subplots_adjust( wspace=0.2)\n",
    "plt.savefig('method1.jpg', dpi=300, bbox_inches='tight')\n",
    "plt.show()"
   ]
  },
  {
   "cell_type": "code",
   "execution_count": null,
   "id": "81b57831-3572-4841-b3c4-00c7c83178d5",
   "metadata": {},
   "outputs": [],
   "source": [
    "#function for calculating the potential density\n",
    "def compute_potential_density(salinity, temperature, pressure):\n",
    "    return jmd95.densjmd95(salinity, temperature, pressure)\n",
    "\n",
    "obs_potential_density = compute_potential_density(salt_obs, ptemp_obs, 0)\n",
    "\n",
    "#function for calculating the mld\n",
    "def calculate_mld(potential_density, salinity, temperature):\n",
    "    mld = np.zeros((12, salinity.shape[2], salinity.shape[3]))\n",
    "    \n",
    "    for t in range(12):\n",
    "        surface_potential_density = compute_potential_density(salinity[t, 0, :, :], \n",
    "                                                              temperature[t, 0, :, :] - 0.8, 0)\n",
    "        \n",
    "        for x in range(potential_density.shape[2]):\n",
    "            for y in range(potential_density.shape[3]):\n",
    "                difference = np.abs(potential_density[t, :, x, y] - surface_potential_density[x, y])\n",
    "                min_depth_index = np.argmin(difference)\n",
    "                mld[t, x, y] = 25*(min_depth_index + 1)\n",
    "    \n",
    "    return mld\n",
    "\n",
    "mld_obs = calculate_mld(obs_potential_density, salt_obs, ptemp_obs)\n",
    "\n",
    "#selecting southern ocean\n",
    "mld_obs_s=mld_obs[:,0:index, :]"
   ]
  },
  {
   "cell_type": "code",
   "execution_count": null,
   "id": "f11517b1-7407-4c4b-992c-39af55035768",
   "metadata": {},
   "outputs": [],
   "source": [
    "#Reshape the array to group the time steps into 10 years of 12 months each\n",
    "mld_ctrl_reshaped = mld_ctrl.reshape(-1, 12, 1, 40, 90)\n",
    "\n",
    "#Compute the mean along the years axis (axis=0) to get the average for each month\n",
    "mld_ctrl_monthly_av =mld_ctrl_reshaped.mean(axis=0)\n",
    "\n",
    "#Compute the mean along the years axis (axis=1) to get (12,40,90)\n",
    "mld_ctrl_monthly_avg =mld_ctrl_monthly_av.mean(axis=1)\n",
    "\n",
    "#Selecting southern ocean\n",
    "mld_ctrl_s=mld_ctrl_monthly_avg[:,0:index, :]"
   ]
  },
  {
   "cell_type": "code",
   "execution_count": null,
   "id": "a76aba41-7915-40a0-91a6-5bf7adc09c8d",
   "metadata": {},
   "outputs": [],
   "source": [
    "# Define the indices for summer and winter months for southern ocean\n",
    "summer_indices = [0, 1, 11] \n",
    "winter_indices = [5, 6, 7]  \n",
    "\n",
    "# Select summer and winter months from the obs values\n",
    "mld_obs_s_summer = mld_obs_s[summer_indices, :, :]\n",
    "mld_obs_s_winter = mld_obs_s[winter_indices, :, :]\n",
    "\n",
    "# Select summer and winter months from the ctrl values\n",
    "mld_ctrl_s_summer = mld_ctrl_s[summer_indices, :, :]\n",
    "mld_ctrl_s_winter = mld_ctrl_s[winter_indices, :, :]\n",
    "\n",
    "#finding seasonal average using a function\n",
    "def season_average(season):\n",
    "    season_avg=np.mean(season, axis=0)\n",
    "    return season_avg\n",
    "\n",
    "\n",
    "#observation\n",
    "mld_obs_s_summer_avg = season_average(mld_obs_s_summer)\n",
    "mld_obs_s_winter_avg = season_average(mld_obs_s_winter)\n",
    "\n",
    "#ctrl\n",
    "mld_ctrl_s_summer_avg = season_average(mld_ctrl_s_summer)\n",
    "mld_ctrl_s_winter_avg = season_average(mld_ctrl_s_winter)\n",
    "\n",
    "#ctrl - observation\n",
    "delta_mld_ctrl_obs_summer_avg=mld_ctrl_s_summer_avg - mld_obs_s_summer_avg \n",
    "delta_mld_ctrl_obs_winter_avg=mld_ctrl_s_winter_avg - mld_obs_s_winter_avg"
   ]
  },
  {
   "cell_type": "code",
   "execution_count": null,
   "id": "de82bce9-5284-4c75-a829-55d2fccf2293",
   "metadata": {},
   "outputs": [],
   "source": [
    "#Southern ocean domain\n",
    "\n",
    "#summer mld\n",
    "fig, ax=plt.subplots(2,3, figsize=(12,5), sharey=True, sharex=True)\n",
    "plt.suptitle('Model and Observational Field Summer and Winter Mixed layer depth'.upper(),\n",
    "             fontweight='bold', y=1.01)\n",
    "a=ax[0,0].pcolormesh(xcc, ycc, mld_obs_s_summer_avg,vmin=25, vmax=150, )\n",
    "ax[0,0].set_title('observations')\n",
    "ax[0,0].set_ylabel('Latitude')\n",
    "ax[0,0].text(-150,-65,'Summer', rotation='vertical', fontweight='bold')\n",
    "plt.colorbar(a, label='MLD (m)' )\n",
    "\n",
    "b=ax[0,1].pcolormesh(xcc, ycc, mld_ctrl_s_summer_avg, vmin=25, vmax=150)\n",
    "ax[0,1].set_title('Ctrl')\n",
    "cbarb=plt.colorbar(b,  label='MLD (m)')\n",
    "cbarb.set_ticks([25, 50, 75, 100, 125, 150])\n",
    "cbarb.set_ticklabels(['25', '50', '75', '100', '125', '>150'])\n",
    "\n",
    "c=ax[0,2].pcolormesh(xcc, ycc, delta_mld_ctrl_obs_summer_avg, cmap='coolwarm',)\n",
    "ax[0,2].set_title('Ctrl - observations')\n",
    "cbarc=plt.colorbar(c, label='MLD (m)')\n",
    "cbarc.set_ticks([25, 50, 100, 150, 200, 250])\n",
    "cbarc.set_ticklabels(['25', '50', '100', '150', '200', '>250'])\n",
    "\n",
    "#winter mld\n",
    "d=ax[1,0].pcolormesh(xcc, ycc, mld_obs_s_winter_avg, vmin=25, vmax=250)\n",
    "ax[1,0].set_xlabel('Longitude')\n",
    "ax[1,0].set_ylabel('Latitude')\n",
    "ax[1,0].text(-150,-63,'Winter', rotation='vertical', fontweight='bold')\n",
    "cbard=plt.colorbar(d, label='MLD (m)')\n",
    "\n",
    "e=ax[1,1].pcolormesh(xcc, ycc, mld_ctrl_s_winter_avg, vmin=25, vmax=250)\n",
    "ax[1,1].set_xlabel('Longitude')\n",
    "cbare=plt.colorbar(e, label='MLD (m)')\n",
    "cbare.set_ticks([25, 50, 100, 150, 200, 250])\n",
    "cbare.set_ticklabels(['25', '50', '100', '150', '200', '>250'])\n",
    "\n",
    "f=ax[1,2].pcolormesh(xcc, ycc, delta_mld_ctrl_obs_winter_avg, cmap='coolwarm', vmin=25, vmax=250)\n",
    "ax[1,2].set_xlabel('Longitude')\n",
    "cbar=plt.colorbar(f, label='MLD (m)')\n",
    "cbar.set_ticks([25, 50, 100, 150, 200, 250])\n",
    "cbar.set_ticklabels(['25', '50', '100', '150', '200', '>250'])\n",
    "#----------adjust----------\n",
    "plt.subplots_adjust(wspace=0.2)\n",
    "plt.savefig('method2.jpg', dpi=300, bbox_inches='tight')\n",
    "plt.show()"
   ]
  },
  {
   "cell_type": "code",
   "execution_count": null,
   "id": "9663b0c5-b307-41e5-9a5b-87398894eaa8",
   "metadata": {},
   "outputs": [],
   "source": [
    "delta_mld_ctrl_obs_summer_avg.max()"
   ]
  },
  {
   "cell_type": "code",
   "execution_count": null,
   "id": "2b15854a-c9ea-4aa7-ae19-7de2dbb50b31",
   "metadata": {},
   "outputs": [],
   "source": []
  },
  {
   "cell_type": "markdown",
   "id": "2cbfd7ed-eb41-4809-bdac-ec8059f9dd4e",
   "metadata": {},
   "source": [
    "## Session #3"
   ]
  },
  {
   "cell_type": "markdown",
   "id": "421295c0-3744-4a44-b816-6d41ce3f1ad9",
   "metadata": {},
   "source": [
    "### S3.I"
   ]
  },
  {
   "cell_type": "code",
   "execution_count": null,
   "id": "8d81a446-6bc7-473e-a21c-aff3970ed796",
   "metadata": {},
   "outputs": [],
   "source": [
    "ctrl = '/home/jovyan/MITgcm/my__exp/ctrl/'\n",
    "spinup_data='/home/shared/spinup/mnc0001/'\n",
    "\n",
    "# open zonal velocity\n",
    "ncs = MITgcmutils.mnc_files(spinup_data + 'Diag.*.nc')\n",
    "ncc = MITgcmutils.mnc_files(ctrl + 'mnc*/Diag.*.nc')\n",
    "UVELMASS_spinup = ncs.variables['UVELMASS'][:]\n",
    "UVELMASS_ctrl=ncc.variables['UVELMASS'][:]\n",
    "ncs.close()\n",
    "ncc.close()\n",
    "\n",
    "# open grid\n",
    "ncg = MITgcmutils.mnc_files(ctrl + 'mnc*/grid.t*.nc')\n",
    "hfacw = ncg.variables['HFacW'][:] \n",
    "dy = ncg.variables['dyG'][:] \n",
    "dz = ncg.variables['drF'][:] \n",
    "lon = ncg.variables['XC'][:]\n",
    "lat = ncg.variables['YC'][:]\n",
    "ncg.close()"
   ]
  },
  {
   "cell_type": "code",
   "execution_count": null,
   "id": "c632f782-08cf-40a3-a919-ec48a0d32d70",
   "metadata": {},
   "outputs": [],
   "source": [
    "#function to calculate the transport\n",
    "def compute_acc_transport(UVELMASS, hfac, dy, dz, i_drak):\n",
    "    time, level, lat, lon = UVELMASS.shape\n",
    "    \n",
    "    # Pre-allocate arrays\n",
    "    transport = np.zeros(time,)\n",
    "\n",
    "    for t in range(time):\n",
    "        transport[t] = np.sum(UVELMASS[t, :, :, i_drak] * hfac[:, :, i_drak] * \n",
    "                              dy[:, i_drak] * dz[:, np.newaxis],axis=(0,1))\n",
    "    return transport/1e6\n",
    "\n",
    "\n",
    "# Choose the longitude intersecting the tip of the Antarctic Peninsula and South America\n",
    "lon_drak = 295\n",
    "# Find the corresponding index (i_drak) for the chosen longitude\n",
    "i_drak = np.argmin(np.abs(lon - lon_drak))\n",
    "\n",
    "# Compute the zonal transport across Drake Passage for each experiment\n",
    "transport_sv_spinup = compute_acc_transport(UVELMASS_spinup, hfacw, dy, dz, i_drak)\n",
    "transport_sv_ctrl =compute_acc_transport(UVELMASS_ctrl, hfacw, dy, dz, i_drak)\n",
    "\n",
    "# Concatenate the transport results from the spinup and control experiments\n",
    "transport_sv_combined = np.concatenate((transport_sv_spinup, transport_sv_ctrl))"
   ]
  },
  {
   "cell_type": "code",
   "execution_count": null,
   "id": "f021cb19-7665-4582-a2c1-adf1ad004438",
   "metadata": {},
   "outputs": [],
   "source": [
    "#Create a time array for the x-axis\n",
    "time_spinup = np.arange(transport_sv_spinup.shape[0])\n",
    "time_ctrl = np.arange(start=time_spinup[-1] + 1, stop=time_spinup[-1] + 1 + transport_sv_ctrl.shape[0])\n",
    "\n",
    "# Plot the ACC transport\n",
    "plt.figure(figsize=(10,7))\n",
    "plt.plot(transport_sv_combined, label='Spinup ACC Transport', color='blue')\n",
    "plt.plot(time_ctrl, transport_sv_ctrl, label='Control ACC Transport', color='red')\n",
    "plt.xlabel('Time(year)')\n",
    "#plt.xticks(np.arange(0,111,10))\n",
    "#plt.xlim(0, 110)\n",
    "plt.ylabel('Transport (Sv)')\n",
    "plt.title('ACC Transport across Drake Passage'.upper(), fontweight='bold')\n",
    "plt.legend()\n",
    "plt.savefig('method3.jpg', dpi=300)\n",
    "plt.show()"
   ]
  },
  {
   "cell_type": "markdown",
   "id": "086df4d9-a039-436a-8e86-72538bec419b",
   "metadata": {},
   "source": [
    "#### S3.II"
   ]
  },
  {
   "cell_type": "code",
   "execution_count": null,
   "id": "dd05bf3d-d0d1-46e0-8c98-fb47efe2804c",
   "metadata": {},
   "outputs": [],
   "source": [
    "# open zonal velocity\n",
    "ncc = MITgcmutils.mnc_files(ctrl + 'mnc*/Diag.*.nc')\n",
    "VVELMASS_ctrl=ncc.variables['VVELMASS'][:]\n",
    "GM_PsiY_ctrl=ncc.variables['GM_PsiY'][:]\n",
    "\n",
    "ncc.close()\n",
    "\n",
    "# open grid\n",
    "ncg = MITgcmutils.mnc_files(ctrl + 'mnc*/grid.t*.nc')\n",
    "hfacs = ncg.variables['HFacS'][:] \n",
    "z=ncg.variables['Z'][:]\n",
    "y=ncg.variables['Y'][:]\n",
    "yp1=ncg.variables['Yp1'][:]\n",
    "dx = ncg.variables['dxG'][:] \n",
    "dz_prime = ncg.variables['drF'][:] \n",
    "ncg.close()"
   ]
  },
  {
   "cell_type": "markdown",
   "id": "fde0d692-f1fe-443d-9b54-d05d6223e6cc",
   "metadata": {},
   "source": [
    "##### GM Component for ctrl"
   ]
  },
  {
   "cell_type": "code",
   "execution_count": null,
   "id": "dc4cf32d-4ae7-4cb1-91b1-63828bab28fb",
   "metadata": {},
   "outputs": [],
   "source": [
    "# Mask the zero values in GM_PsiY\n",
    "GM_PsiY_ctrl_masked = np.ma.masked_where(GM_PsiY_ctrl == 0, GM_PsiY_ctrl)\n",
    "# Calculate the zonal integral of GM_PsiY for each year of the simulation\n",
    "time, level, lat, lon = GM_PsiY_ctrl_masked.shape\n",
    "zonal_integral_GM_PsiY = np.zeros((time, level, lat))\n",
    "for t in range(time):\n",
    "    zonal_integral_GM_PsiY[t] = np.sum(GM_PsiY_ctrl_masked[t,:,:]*dx, axis=-1)\n",
    "#converting to sv\n",
    "GM_MOC_sv=zonal_integral_GM_PsiY/1e6\n",
    "# Calculate the 10-year average\n",
    "GM_MOC_sv_10yr_avg = np.mean(GM_MOC_sv, axis=0)"
   ]
  },
  {
   "cell_type": "code",
   "execution_count": null,
   "id": "cb9322ce-9c70-4e97-a31e-29bb3ca98990",
   "metadata": {},
   "outputs": [],
   "source": []
  },
  {
   "cell_type": "markdown",
   "id": "846d0e3a-c785-409d-8947-50ed6f72cb02",
   "metadata": {},
   "source": [
    "##### Eulerian-mean Component"
   ]
  },
  {
   "cell_type": "code",
   "execution_count": null,
   "id": "71117cdf-208e-4fc2-b564-a34232421877",
   "metadata": {},
   "outputs": [],
   "source": [
    "#Calculate the cumulative vertical sum and zonal integral of VVELMASS\n",
    "time, level, lat, lon = VVELMASS_ctrl.shape\n",
    "# Pre-allocate arrays\n",
    "cumulative_vertical_sum = np.zeros_like(VVELMASS_ctrl)\n",
    "zonal_integral_vvelmass= np.zeros((time, level, lat))\n",
    "for t in range(time):\n",
    "    # Compute the cumulative vertical sum\n",
    "    cumulative_vertical_sum[t] = np.cumsum(-VVELMASS_ctrl[t,::-1,...] * hfacs * dz_prime[::-1, np.newaxis, np.newaxis], axis=0)\n",
    "\n",
    "    # Compute the zonal integral\n",
    "    zonal_integral_vvelmass[t] = np.sum(cumulative_vertical_sum[t] * dx, axis=-1)\n",
    "    \n",
    "#converting to sv\n",
    "Eulerian_MOC_sv=zonal_integral_vvelmass/1e6\n",
    "# Calculate the 10-year average\n",
    "Eulerian_MOC_sv_10yr_avg = np.mean(Eulerian_MOC_sv, axis=0)"
   ]
  },
  {
   "cell_type": "markdown",
   "id": "263ad802-e269-4b1d-8882-d16b5f48a873",
   "metadata": {},
   "source": [
    "##### Residual component"
   ]
  },
  {
   "cell_type": "code",
   "execution_count": null,
   "id": "c484b0ef-0c2e-48e6-a35d-228830319cea",
   "metadata": {},
   "outputs": [],
   "source": [
    "Residual_MOC=Eulerian_MOC_sv_10yr_avg+GM_MOC_sv_10yr_avg"
   ]
  },
  {
   "cell_type": "code",
   "execution_count": null,
   "id": "6e73ff11-f3f9-4519-b0a3-02cf55b8f668",
   "metadata": {},
   "outputs": [],
   "source": [
    "fig, ax=plt.subplots(1,3, figsize=(12,3), sharey=True)\n",
    "plt.suptitle('Control (Model) Meridional Overturning Circulation (MOC)'.upper(), fontweight='bold', y=1.05)\n",
    "cs0=ax[0].contourf(yp1[:12], z[::-1],Residual_MOC[:,:12], cmap='bwr',levels=100, vmin=-36, vmax=36)\n",
    "ct0=ax[0].contour(yp1[:12],z[::-1], Residual_MOC[:,:12], levels=[-22,-10,-5,0,5,10,25,40],colors='k',linewidths=0.5)\n",
    "plt.colorbar(cs0, ax=ax[0], aspect=10)\n",
    "plt.clabel(ct0, )\n",
    "ax[0].set_title('Residual')\n",
    "ax[0].set_xlabel('Latitude')\n",
    "ax[0].set_ylabel('Depth (m)')\n",
    "\n",
    "cs1=ax[1].contourf(yp1[:12],z[::-1],Eulerian_MOC_sv_10yr_avg[:,:12],levels=100, cmap='bwr', vmin=-36, vmax=36)\n",
    "ct1=ax[1].contour(yp1[:12],z[::-1],Eulerian_MOC_sv_10yr_avg[:,:12],levels=[-6,-4,0,5,10,20,30,50],colors='k',linewidths=0.5)\n",
    "plt.colorbar(cs1, ax=ax[1], aspect=10)\n",
    "plt.clabel(ct1,)\n",
    "ax[1].set_title('Eulerian')\n",
    "ax[1].set_xlabel('Latitude')\n",
    "\n",
    "\n",
    "cs2=ax[2].contourf(yp1[:12],z[::-1],GM_MOC_sv_10yr_avg[::-1,:12],levels=100, cmap='bwr', vmin=-36, vmax=36)\n",
    "ct2=ax[2].contour(yp1[:12],z[::-1],GM_MOC_sv_10yr_avg[::-1,:12],levels=[-26,-23,-18,-14,-9,-4,0, 1],colors='k', linewidths=0.5)\n",
    "plt.colorbar(cs2, ax=ax[2], aspect=10, label='sv')\n",
    "plt.clabel(ct2)\n",
    "ax[2].set_title('GM');\n",
    "ax[2].set_xlabel('Latitude');\n",
    "plt.savefig('method4.jpg', dpi=300, bbox_inches='tight')\n",
    "plt.show()"
   ]
  },
  {
   "cell_type": "code",
   "execution_count": null,
   "id": "54e6776a-388b-4ad6-bb11-a15295decc43",
   "metadata": {},
   "outputs": [],
   "source": [
    "fig, ax=plt.subplots(figsize=(7,5), sharey=True)\n",
    "\n",
    "cs0=ax.contourf(yp1[:12], z[::-1],Residual_MOC[:,:12], cmap='bwr',levels=30, vmin=-120, vmax=120)\n",
    "ct0=ax.contour(yp1[:12],z[::-1],Residual_MOC[:,:12],levels=[-20,-15,-10,-5,0,5,10,15,30,60],colors='k',linewidths=0.5)\n",
    "plt.colorbar(cs0, ax=ax, aspect=10)\n",
    "plt.clabel(ct0, )\n",
    "ax.set_title('Residual for the control ')\n",
    "#ax.text(-105,-2500,'Ctrl', fontweight='bold', )\n",
    "ax.set_xlabel('Latitude')\n",
    "ax.set_ylabel('Depth (m)');"
   ]
  },
  {
   "cell_type": "code",
   "execution_count": null,
   "id": "bb86ec7b-5534-470c-8473-cbb7ed251ff4",
   "metadata": {},
   "outputs": [],
   "source": []
  },
  {
   "cell_type": "markdown",
   "id": "45b1c36f-4c77-4b8e-912e-292dd8d54049",
   "metadata": {},
   "source": [
    "### RESULTS"
   ]
  },
  {
   "cell_type": "code",
   "execution_count": null,
   "id": "1249834e-5eda-48f9-a798-21212ca7cf41",
   "metadata": {},
   "outputs": [],
   "source": []
  },
  {
   "cell_type": "markdown",
   "id": "7cc5266a-da61-4d45-b61f-bffdec00c03b",
   "metadata": {},
   "source": [
    "## strong"
   ]
  },
  {
   "cell_type": "code",
   "execution_count": null,
   "id": "d7ae2b4a-e9d3-4fc3-8f58-e3a85ced00ef",
   "metadata": {},
   "outputs": [],
   "source": [
    "strong='/home/jovyan/MITgcm/my__exp/strong_wind/'\n",
    "\n",
    "# open zonal velocity for strong\n",
    "ncst = MITgcmutils.mnc_files(strong + 'mnc*/Diag.*.nc')\n",
    "UVELMASS_strong=ncst.variables['UVELMASS'][:]\n",
    "VVELMASS_strong=ncst.variables['VVELMASS'][:]\n",
    "GM_PsiY_strong=ncst.variables['GM_PsiY'][:]\n",
    "Age_tracer_strong=ncst.variables['TRAC01'][:]\n",
    "ncst.close()\n",
    "\n",
    "#open mixedlayer for strong\n",
    "ncstm= MITgcmutils.mnc_files(strong + 'mnc*/Sdiag*.nc')\n",
    "mld_strong=ncstm.variables['MXLDEPTH'][:]\n",
    "ncstm.close()\n",
    "\n",
    "# open grid for strong\n",
    "ncstr = MITgcmutils.mnc_files(strong + 'mnc*/grid.t*.nc')\n",
    "hfacs_strong  = ncstr.variables['HFacS'][:] \n",
    "z_strong =ncstr.variables['Z'][:]\n",
    "y_strong =ncstr.variables['Y'][:]\n",
    "yp1_strong =ncstr.variables['Yp1'][:]\n",
    "dx_strong  = ncstr.variables['dxG'][:] \n",
    "dz_prime_strong = ncstr.variables['drF'][:] \n",
    "hfacw_strong = ncstr.variables['HFacW'][:] \n",
    "dy_strong = ncstr.variables['dyG'][:] \n",
    "lon_strong = ncstr.variables['XC'][:]\n",
    "lat_strong = ncstr.variables['YC'][:]\n",
    "ncstr.close()"
   ]
  },
  {
   "cell_type": "markdown",
   "id": "da5875f6-adb2-4a37-b91e-1fdeb4e276f7",
   "metadata": {},
   "source": [
    "##### strong mld"
   ]
  },
  {
   "cell_type": "code",
   "execution_count": null,
   "id": "ccf1d9ea-afcc-4195-8817-8758c7f578d4",
   "metadata": {},
   "outputs": [],
   "source": [
    "#Reshape the array to group the time steps into 10 years of 12 months each\n",
    "mld_strong_reshaped = mld_strong.reshape(-1, 12, 1, 40, 90)\n",
    "\n",
    "#Compute the mean along the years axis (axis=0) to get the average for each month\n",
    "mld_strong_monthly_av =mld_strong_reshaped.mean(axis=0)\n",
    "\n",
    "#Compute the mean along the years axis (axis=1) to get (12,40,90)\n",
    "mld_strong_monthly_avg =mld_strong_monthly_av.mean(axis=1)\n",
    "\n",
    "#Selecting southern ocean\n",
    "mld_strong_s=mld_strong_monthly_avg[:,0:index, :]\n",
    "\n",
    "#selecting winter\n",
    "mld_strong_s_winter=mld_strong_s[winter_indices,:,:]\n",
    "\n",
    "mld_strong_s_winter_avg = season_average(mld_strong_s_winter)"
   ]
  },
  {
   "cell_type": "markdown",
   "id": "6c13ac93-5968-4c00-a68c-00301dd86e51",
   "metadata": {},
   "source": [
    "##### strong transport"
   ]
  },
  {
   "cell_type": "code",
   "execution_count": null,
   "id": "e4daca67-9d59-4849-a175-1f1bfce58bfc",
   "metadata": {},
   "outputs": [],
   "source": [
    "# Compute the zonal transport across Drake Passage for each experiment\n",
    "transport_sv_strong =compute_acc_transport(UVELMASS_strong, hfacw_strong, dy_strong, dz_prime_strong, i_drak)\n",
    "\n",
    "# Concatenate the transport results from the spinup and control experiments\n",
    "transport_strong_sv_combined = np.concatenate((transport_sv_spinup, transport_sv_strong))"
   ]
  },
  {
   "cell_type": "markdown",
   "id": "b3b62e26-d872-4b8f-929c-0be60f5fcf4f",
   "metadata": {},
   "source": [
    "##### GM Component for strong"
   ]
  },
  {
   "cell_type": "code",
   "execution_count": null,
   "id": "bd6adafd-f6df-47bc-9c49-879f7a35205a",
   "metadata": {},
   "outputs": [],
   "source": [
    "# Mask the zero values in GM_PsiY\n",
    "GM_PsiY_strong_masked = np.ma.masked_where(GM_PsiY_strong == 0, GM_PsiY_strong)\n",
    "# Calculate the zonal integral of GM_PsiY for each year of the simulation\n",
    "time, level, lat, lon = GM_PsiY_strong_masked.shape\n",
    "zonal_integral_GM_PsiY_strong = np.zeros((time, level, lat))\n",
    "for t in range(time):\n",
    "    zonal_integral_GM_PsiY_strong[t] = np.sum(GM_PsiY_strong_masked[t,:,:]*dx_strong, axis=-1)\n",
    "#converting to sv\n",
    "GM_MOC_strong_sv=zonal_integral_GM_PsiY_strong/1e6\n",
    "# Calculate the 10-year average\n",
    "GM_MOC_strong_sv_10yr_avg = np.mean(GM_MOC_strong_sv, axis=0)"
   ]
  },
  {
   "cell_type": "markdown",
   "id": "1e0075ff-e9cc-4a7d-9375-2a6b9e24ed5a",
   "metadata": {},
   "source": [
    "##### Eulerian-mean Component for strong"
   ]
  },
  {
   "cell_type": "code",
   "execution_count": null,
   "id": "122d5db6-6cf6-439c-84b2-8ebffd7f50f2",
   "metadata": {},
   "outputs": [],
   "source": [
    "#Calculate the cumulative vertical sum and zonal integral of VVELMASS\n",
    "time, level, lat, lon = VVELMASS_strong.shape\n",
    "# Pre-allocate arrays\n",
    "cumulative_vertical_strong_sum = np.zeros_like(VVELMASS_strong)\n",
    "zonal_integral_vvelmass_strong= np.zeros((time, level, lat))\n",
    "for t in range(time):\n",
    "    # Compute the cumulative vertical sum\n",
    "    cumulative_vertical_strong_sum[t] = np.cumsum(-VVELMASS_strong[t,::-1,...] * \n",
    "                                                  hfacs_strong * dz_prime_strong[::-1, np.newaxis, np.newaxis], axis=0)\n",
    "\n",
    "    # Compute the zonal integral\n",
    "    zonal_integral_vvelmass_strong[t] = np.sum(cumulative_vertical_strong_sum[t] * dx_strong, axis=-1)\n",
    "    \n",
    "#converting to sv\n",
    "Eulerian_MOC_strong_sv=zonal_integral_vvelmass_strong/1e6\n",
    "# Calculate the 10-year average\n",
    "Eulerian_MOC_strong_sv_10yr_avg = np.mean(Eulerian_MOC_strong_sv, axis=0)"
   ]
  },
  {
   "cell_type": "markdown",
   "id": "db62dc8c-922b-493e-9934-7b2b65b013dd",
   "metadata": {},
   "source": [
    "##### Residual Component for strong"
   ]
  },
  {
   "cell_type": "code",
   "execution_count": null,
   "id": "b18f1f7f-128b-4b4c-a027-a424150e0ce6",
   "metadata": {},
   "outputs": [],
   "source": [
    "Residual_MOC_strong=Eulerian_MOC_strong_sv_10yr_avg + GM_MOC_strong_sv_10yr_avg"
   ]
  },
  {
   "cell_type": "markdown",
   "id": "9bbc12cd-02d3-4ec0-9d0c-c5cdccbbeb1f",
   "metadata": {
    "tags": []
   },
   "source": [
    "##### Transport"
   ]
  },
  {
   "cell_type": "markdown",
   "id": "b9469227-82dd-4bac-bbab-802da1ed81db",
   "metadata": {},
   "source": [
    "## weak"
   ]
  },
  {
   "cell_type": "code",
   "execution_count": null,
   "id": "2512cdbe-9714-451f-aed9-91bacb5d2bd6",
   "metadata": {},
   "outputs": [],
   "source": [
    "weak='/home/jovyan/MITgcm/my__exp/weak_wind/'\n",
    "\n",
    "# open zonal velocity for weak\n",
    "ncwe = MITgcmutils.mnc_files(weak + 'mnc*/Diag.*.nc')\n",
    "UVELMASS_weak=ncwe.variables['UVELMASS'][:]\n",
    "VVELMASS_weak=ncwe.variables['VVELMASS'][:]\n",
    "GM_PsiY_weak=ncwe.variables['GM_PsiY'][:]\n",
    "Age_tracer_weak=ncwe.variables['TRAC01'][:]\n",
    "ncwe.close()\n",
    "\n",
    "#open mixedlayer for weak\n",
    "ncwkm= MITgcmutils.mnc_files(weak+ 'mnc*/Sdiag*.nc')\n",
    "mld_weak=ncwkm.variables['MXLDEPTH'][:]\n",
    "ncwkm.close()\n",
    "\n",
    "# open grid for weak\n",
    "ncwk = MITgcmutils.mnc_files(weak + 'mnc*/grid.t*.nc')\n",
    "hfacs_weak = ncwk.variables['HFacS'][:] \n",
    "z_weak =ncwk.variables['Z'][:]\n",
    "y_weak =ncwk.variables['Y'][:]\n",
    "yp1_weak =ncwk.variables['Yp1'][:]\n",
    "dx_weak = ncwk.variables['dxG'][:] \n",
    "dz_prime_weak = ncwk.variables['drF'][:] \n",
    "hfacw_weak = ncwk.variables['HFacW'][:] \n",
    "dy_weak = ncwk.variables['dyG'][:]\n",
    "lon_weak = ncwk.variables['XC'][:]\n",
    "lat_weak = ncwk.variables['YC'][:]\n",
    "ncwk.close()"
   ]
  },
  {
   "cell_type": "markdown",
   "id": "58ac84ee-43b5-4884-9e6f-ad48ee27e251",
   "metadata": {},
   "source": [
    "##### weak mld"
   ]
  },
  {
   "cell_type": "code",
   "execution_count": null,
   "id": "33a0271e-53d0-4f55-86af-666f4c957088",
   "metadata": {},
   "outputs": [],
   "source": [
    "#Reshape the array to group the time steps into 10 years of 12 months each\n",
    "mld_weak_reshaped = mld_weak.reshape(-1, 12, 1, 40, 90)\n",
    "\n",
    "#Compute the mean along the years axis (axis=0) to get the average for each month\n",
    "mld_weak_monthly_av =mld_weak_reshaped.mean(axis=0)\n",
    "\n",
    "#Compute the mean along the years axis (axis=1) to get (12,40,90)\n",
    "mld_weak_monthly_avg =mld_weak_monthly_av.mean(axis=1)\n",
    "\n",
    "#Selecting southern ocean\n",
    "mld_weak_s=mld_weak_monthly_avg[:,0:index, :]\n",
    "\n",
    "#selecting winter\n",
    "mld_weak_s_winter=mld_weak_s[winter_indices,:,:]\n",
    "\n",
    "mld_weak_s_winter_avg = season_average(mld_weak_s_winter)"
   ]
  },
  {
   "cell_type": "markdown",
   "id": "4ff9c3a9-6ac8-4f43-92e5-404cc36ad3c0",
   "metadata": {},
   "source": [
    "##### weak transport"
   ]
  },
  {
   "cell_type": "code",
   "execution_count": null,
   "id": "a6b94a60-cfc5-4756-b129-0e6acfa8875e",
   "metadata": {},
   "outputs": [],
   "source": [
    "# Compute the zonal transport across Drake Passage for each experiment\n",
    "transport_sv_weak =compute_acc_transport(UVELMASS_weak, hfacw_weak, dy_weak, dz_prime_weak, i_drak)\n",
    "\n",
    "# Concatenate the transport results from the spinup and control experiments\n",
    "transport_weak_sv_combined = np.concatenate((transport_sv_spinup, transport_sv_weak))"
   ]
  },
  {
   "cell_type": "markdown",
   "id": "729f6587-0dc9-435b-a3aa-46a8e3d8c05f",
   "metadata": {},
   "source": [
    "##### GM Component for weak"
   ]
  },
  {
   "cell_type": "code",
   "execution_count": null,
   "id": "fa1c7e0d-c221-4cb2-bf5f-36c3d824cb7e",
   "metadata": {},
   "outputs": [],
   "source": [
    "# Mask the zero values in GM_PsiY\n",
    "GM_PsiY_weak_masked = np.ma.masked_where(GM_PsiY_weak == 0, GM_PsiY_weak)\n",
    "# Calculate the zonal integral of GM_PsiY for each year of the simulation\n",
    "time, level, lat, lon = GM_PsiY_weak_masked.shape\n",
    "zonal_integral_GM_PsiY_weak = np.zeros((time, level, lat))\n",
    "for t in range(time):\n",
    "    zonal_integral_GM_PsiY_weak[t] = np.sum(GM_PsiY_weak_masked[t,:,:]*dx_weak, axis=-1)\n",
    "#converting to sv\n",
    "GM_MOC_weak_sv=zonal_integral_GM_PsiY_weak/1e6\n",
    "# Calculate the 10-year average\n",
    "GM_MOC_weak_sv_10yr_avg = np.mean(GM_MOC_weak_sv, axis=0)"
   ]
  },
  {
   "cell_type": "markdown",
   "id": "c17a88a1-0bdf-4057-a57a-2b6b6067f109",
   "metadata": {},
   "source": [
    "##### Eulerian-mean Component for weak"
   ]
  },
  {
   "cell_type": "code",
   "execution_count": null,
   "id": "181eff49-7b23-4d4d-a036-ce32e31052be",
   "metadata": {},
   "outputs": [],
   "source": [
    "#Calculate the cumulative vertical sum and zonal integral of VVELMASS\n",
    "time, level, lat, lon = VVELMASS_weak.shape\n",
    "# Pre-allocate arrays\n",
    "cumulative_vertical_weak_sum = np.zeros_like(VVELMASS_weak)\n",
    "zonal_integral_vvelmass_weak= np.zeros((time, level, lat))\n",
    "for t in range(time):\n",
    "    # Compute the cumulative vertical sum\n",
    "    cumulative_vertical_weak_sum[t] = np.cumsum(-VVELMASS_weak[t,::-1,...] * \n",
    "                                                  hfacs_weak * dz_prime_weak[::-1, np.newaxis, np.newaxis], axis=0)\n",
    "\n",
    "    # Compute the zonal integral\n",
    "    zonal_integral_vvelmass_weak[t] = np.sum(cumulative_vertical_weak_sum[t] * dx_weak, axis=-1)\n",
    "    \n",
    "#converting to sv\n",
    "Eulerian_MOC_weak_sv=zonal_integral_vvelmass_weak/1e6\n",
    "# Calculate the 10-year average\n",
    "Eulerian_MOC_weak_sv_10yr_avg = np.mean(Eulerian_MOC_weak_sv, axis=0)"
   ]
  },
  {
   "cell_type": "markdown",
   "id": "161e13cb-d266-43f5-a353-075bfea4c194",
   "metadata": {},
   "source": [
    "##### Residual Component for weak"
   ]
  },
  {
   "cell_type": "code",
   "execution_count": null,
   "id": "f9b7afd1-2d40-49aa-a7aa-eea99fa11b74",
   "metadata": {},
   "outputs": [],
   "source": [
    "Residual_MOC_weak=Eulerian_MOC_weak_sv_10yr_avg + GM_MOC_weak_sv_10yr_avg"
   ]
  },
  {
   "cell_type": "code",
   "execution_count": null,
   "id": "8eff0495-65e8-429e-81da-d707b7ae20e8",
   "metadata": {},
   "outputs": [],
   "source": []
  },
  {
   "cell_type": "code",
   "execution_count": null,
   "id": "a58090b7-2ec5-4b94-bf8d-f21a9d4b6f45",
   "metadata": {},
   "outputs": [],
   "source": []
  },
  {
   "cell_type": "code",
   "execution_count": null,
   "id": "3a31eebe-cfd1-407c-999a-e9cf64604971",
   "metadata": {},
   "outputs": [],
   "source": [
    "fig, ax=plt.subplots(3,3, figsize=(12,8), sharey=True, sharex=True)\n",
    "plt.suptitle('Eulerian, GM and residual component for each simulation'.upper(),\n",
    "             fontweight='bold', y=0.96)\n",
    "#ctrl\n",
    "cs0=ax[0,0].contourf(yp1[:12], z[::-1], Residual_MOC[:,:12], cmap='bwr',levels=100,  vmin=-36, vmax=36)\n",
    "#ct0=ax[0,0].contour(yp1[:12],z[::-1], Residual_MOC[:,:12], levels=[-20,-15,-10,-5,0,5,10,30,60],colors='k',linewidths=0.5)\n",
    "plt.colorbar(cs0, ax=ax[0,0], aspect=10)\n",
    "#plt.clabel(ct0, )\n",
    "ax[0,0].set_title('Residual')\n",
    "ax[0,0].text(-110,-2700,'Ctrl'.upper(), fontweight='bold', )\n",
    "ax[0,0].set_ylabel('Depth (m)')\n",
    "\n",
    "cs1=ax[0,1].contourf(yp1[:12],z[::-1],Eulerian_MOC_sv_10yr_avg[:,:12],levels=100, cmap='bwr', vmin=-36, vmax=36)\n",
    "#ct1=ax[0,1].contour(yp1[:12],z[::-1],Eulerian_MOC_sv_10yr_avg[:,:12],levels=[-4,0,5,10,15,30,60],colors='k',linewidths=0.5)\n",
    "plt.colorbar(cs1, ax=ax[0,1], aspect=10)\n",
    "#plt.clabel(ct1, )\n",
    "ax[0,1].set_title('Eulerian')\n",
    "\n",
    "cs2=ax[0,2].contourf(yp1[:12],z[::-1],GM_MOC_sv_10yr_avg[::-1,:12],levels=100, cmap='bwr',  vmin=-36, vmax=36)\n",
    "#ct2=ax[0,2].contour(yp1[:12],z[::-1],GM_MOC_sv_10yr_avg[:,:12],levels=[-26,-23,-18,-14,-9,-4,0, 1],colors='k', linewidths=0.5)\n",
    "plt.colorbar(cs2, ax=ax[0,2], aspect=10, label='sv', ticks=[-36, -27, -18,-9, 0, 9,18, 27, 36])\n",
    "#plt.clabel(ct2)\n",
    "ax[0,2].set_title('GM');\n",
    "\n",
    "#weak\n",
    "cs3=ax[1,0].contourf(yp1[:12], z[::-1],Residual_MOC_weak[:,:12], cmap='bwr',levels=100, vmin=-36, vmax=36)\n",
    "#ct3=ax[1,0].contour(yp1[:12],z[::-1],Residual_MOC_weak[:,:12],levels=[-20,-15,-10,-5,0,5,10,30,60],colors='k',linewidths=0.5)\n",
    "plt.colorbar(cs3, ax=ax[1,0], aspect=10)\n",
    "#plt.clabel(ct3, )\n",
    "ax[1,0].text(-110,-2800,'Weak\\nwind'.upper(), fontweight='bold', )\n",
    "ax[1,0].set_ylabel('Depth (m)')\n",
    "\n",
    "cs4=ax[1,1].contourf(yp1[:12],z[::-1],Eulerian_MOC_weak_sv_10yr_avg[:,:12],levels=100, cmap='bwr', vmin=-36, vmax=36)\n",
    "#ct4=ax[1,1].contour(yp1[:12],z[::-1],Eulerian_MOC_weak_sv_10yr_avg[:,:12],levels=[-4,0,5,10,15,30,60],colors='k',linewidths=0.5)\n",
    "plt.colorbar(cs4, ax=ax[1,1], aspect=10)\n",
    "#plt.clabel(ct4, )\n",
    "\n",
    "\n",
    "cs5=ax[1,2].contourf(yp1[:12],z[::-1],GM_MOC_weak_sv_10yr_avg[::-1,:12],levels=100, cmap='bwr',  vmin=-36, vmax=36)\n",
    "#ct5=ax[1,2].contour(yp1[:12],z[::-1],GM_MOC_weak_sv_10yr_avg[:,:12],levels=[-26,-23,-18,-14,-9,-4,0, 1.5],colors='k', linewidths=0.5)\n",
    "plt.colorbar(cs5, ax=ax[1,2], aspect=10, label='sv', ticks=[-36, -27, -18,-9, 0, 9,18, 27, 36])\n",
    "#plt.clabel(ct5)\n",
    "\n",
    "#strong\n",
    "cs6=ax[2,0].contourf(yp1[:12], z[::-1],Residual_MOC_strong[:,:12], cmap='bwr',levels=100, vmin=-36, vmax=36)\n",
    "#ct6=ax[2,0].contour(yp1[:12],z[::-1],Residual_MOC_strong[:,:12],levels=[-25,-17,-8,-4,0,5,10,15,30,60],colors='k',linewidths=0.5)\n",
    "plt.colorbar(cs6, ax=ax[2,0], aspect=10)\n",
    "#plt.clabel(ct6, )\n",
    "ax[2,0].text(-110,-2800,'Strong\\n  wind'.upper(), fontweight='bold', )\n",
    "ax[2,0].set_xlabel('Latitude')\n",
    "ax[2,0].set_ylabel('Depth (m)')\n",
    "\n",
    "cs7=ax[2,1].contourf(yp1[:12],z[::-1],Eulerian_MOC_strong_sv_10yr_avg[:,:12],levels=100, cmap='bwr', vmin=-36, vmax=36)\n",
    "#ct7=ax[2,1].contour(yp1[:12],z[::-1],Eulerian_MOC_strong_sv_10yr_avg[:,:12],levels=[-4,0,5,8,15,26,40,60],colors='k',linewidths=0.5)\n",
    "plt.colorbar(cs7, ax=ax[2,1], aspect=10)\n",
    "#plt.clabel(ct7, )\n",
    "ax[2,1].set_xlabel('Latitude')\n",
    "\n",
    "\n",
    "cs8=ax[2,2].contourf(yp1[:12],z[::-1],GM_MOC_strong_sv_10yr_avg[::-1,:12],levels=100, cmap='bwr', vmin=-36, vmax=36)\n",
    "#ct8=ax[2,2].contour(yp1[:12],z[::-1],GM_MOC_strong_sv_10yr_avg[:,:12],levels=[-26,-23,-18,-14,-9,-4,0, 1.5], colors='k', linewidths=0.5)\n",
    "plt.colorbar(cs8, ax=ax[2,2], aspect=10, label='sv', ticks=[-36, -27, -18,-9, 0, 9,18, 27, 36])\n",
    "#plt.clabel(ct8)\n",
    "ax[2,2].set_xlabel('Latitude');\n",
    "plt.subplots_adjust(wspace=0.2)"
   ]
  },
  {
   "cell_type": "code",
   "execution_count": null,
   "id": "6c5a76f2-0fca-4e44-b1be-eab2d6b798a4",
   "metadata": {},
   "outputs": [],
   "source": []
  },
  {
   "cell_type": "code",
   "execution_count": null,
   "id": "703e736d-0d6b-4b01-9601-e71666e67e89",
   "metadata": {},
   "outputs": [],
   "source": []
  },
  {
   "cell_type": "code",
   "execution_count": null,
   "id": "45210360-a3c1-47a5-a717-05d591fd5914",
   "metadata": {},
   "outputs": [],
   "source": [
    "plt.plot(transport_strong_sv_combined, label='strong')\n",
    "plt.plot(transport_weak_sv_combined, label='weak')\n",
    "plt.plot(transport_sv_combined, label='pickup', color='k')\n",
    "plt.plot(time_ctrl,transport_sv_ctrl,label='ctrl')\n",
    "plt.legend();"
   ]
  },
  {
   "cell_type": "code",
   "execution_count": null,
   "id": "9217722f-3a15-46ba-8c6c-bc12eea52120",
   "metadata": {},
   "outputs": [],
   "source": [
    "fig,ax=plt.subplots(1,3, figsize=(12,3))\n",
    "ax[1].plot(transport_strong_sv_combined, label='strong', color='red')\n",
    "ax[1].legend()\n",
    "ax[2].plot(transport_weak_sv_combined, label='weak',  color='green')\n",
    "ax[2].legend()\n",
    "ax[0].plot(transport_sv_combined, label='ctrl')\n",
    "ax[0].legend();"
   ]
  },
  {
   "cell_type": "code",
   "execution_count": null,
   "id": "70f15840-d33b-42a9-a5c9-2f03f713a975",
   "metadata": {},
   "outputs": [],
   "source": []
  },
  {
   "cell_type": "code",
   "execution_count": null,
   "id": "20f7e1bd-33e3-46bc-8a17-e240fda41ca3",
   "metadata": {},
   "outputs": [],
   "source": [
    "max_strong_wind=np.max(taux_strong_zonal_average)\n",
    "max_weak_wind=np.max(taux_weak_zonal_average)\n",
    "max_strong_transport=np.max(transport_sv_strong)\n",
    "max_weak_transport=np.max(transport_sv_weak)\n",
    "max_ctrl_wind=np.max(taux_zonal_average)\n",
    "max_ctrl_transport=np.max(transport_sv_ctrl)\n",
    "max_strong_residual=np.max(Residual_MOC_strong)\n",
    "max_weak_residual=np.max(Residual_MOC_weak)\n",
    "max_ctrl_residual=np.max(Residual_MOC)"
   ]
  },
  {
   "cell_type": "code",
   "execution_count": null,
   "id": "1736e8f9-5628-4e9e-8924-fd72d4164d6d",
   "metadata": {},
   "outputs": [],
   "source": [
    "plt.figure(figsize=(10,5))\n",
    "plt.scatter(max_strong_wind, max_strong_transport, label='strong', s=100)\n",
    "plt.scatter(max_weak_wind, max_weak_transport, label='weak', s=100)\n",
    "plt.scatter(max_ctrl_wind, max_ctrl_transport, label='ctrl', s=100)\n",
    "plt.xlabel('Zonal wind stress max')\n",
    "plt.ylabel('ACC transport max')\n",
    "plt.title('time mean zonally averaged zonal wind stress maximum \\n versus the maximum of the ACC transport'.upper(),\n",
    "          fontweight='bold')\n",
    "plt.legend()"
   ]
  },
  {
   "cell_type": "code",
   "execution_count": null,
   "id": "0b479102-1353-4b8e-8974-e2b7315cba3c",
   "metadata": {},
   "outputs": [],
   "source": [
    "plt.figure(figsize=(10,5))\n",
    "plt.scatter(max_strong_wind, max_strong_residual, label='strong', s=100)\n",
    "plt.scatter(max_weak_wind, max_weak_residual, label='weak',  s=100)\n",
    "plt.scatter(max_ctrl_wind, max_ctrl_residual, label='ctrl',  s=100)\n",
    "plt.xlabel('Zonal wind stress maximum')\n",
    "plt.ylabel('Upper residual MOC')\n",
    "plt.title('time mean zonally averaged zonal wind stress maximum versus \\n \\\n",
    "          the maximum of the subpolar cell of the residual MOC'.upper(), fontweight='bold')\n",
    "plt.legend()"
   ]
  },
  {
   "cell_type": "code",
   "execution_count": null,
   "id": "8e051d9f-9a68-4ee3-8261-c84c7f691e3e",
   "metadata": {},
   "outputs": [],
   "source": [
    "delta_mld_ctrl_weak_winter_avg=mld_weak_s_winter_avg-mld_ctrl_s_winter_avg\n",
    "delta_mld_ctrl_strong_winter_avg=mld_strong_s_winter_avg-mld_ctrl_s_winter_avg"
   ]
  },
  {
   "cell_type": "code",
   "execution_count": null,
   "id": "3647fa31-3fe4-43d1-bd26-31b19df9601c",
   "metadata": {},
   "outputs": [],
   "source": [
    "#ctrl+weak mld\n",
    "fig, ax=plt.subplots(2,3, figsize=(12,5), sharey=True, sharex=True)\n",
    "plt.suptitle('Maps of the control, sensitivity and response \\n of the winter mixed layer depths'.upper(),\n",
    "             fontweight='bold', y=1.02)\n",
    "a=ax[0,0].pcolormesh(xcc, ycc, mld_ctrl_s_winter_avg, vmin=0, vmax=mld_strong_s_winter_avg.max())\n",
    "ax[0,0].set_title('Ctrl')\n",
    "ax[0,0].set_ylabel('Latitude')\n",
    "plt.colorbar(a,)\n",
    "\n",
    "b=ax[0,1].pcolormesh(xcc, ycc, mld_weak_s_winter_avg, vmin=0, vmax=mld_strong_s_winter_avg.max())\n",
    "ax[0,1].set_title('Weak')\n",
    "plt.colorbar(b,)\n",
    "\n",
    "c=ax[0,2].pcolormesh(xcc, ycc, delta_mld_ctrl_weak_winter_avg, cmap='coolwarm', )\n",
    "ax[0,2].set_title('Weak - Ctrl')\n",
    "plt.colorbar(c, label='MLD (m)')\n",
    "\n",
    "#ctrl+strong mld\n",
    "d=ax[1,0].pcolormesh(xcc, ycc, mld_ctrl_s_winter_avg, vmin=0, vmax=mld_strong_s_winter_avg.max())\n",
    "ax[1,0].set_xlabel('Longitude')\n",
    "ax[1,0].set_ylabel('Latitude')\n",
    "ax[1,0].set_title('Ctrl')\n",
    "plt.colorbar(d,)\n",
    "\n",
    "e=ax[1,1].pcolormesh(xcc, ycc, mld_strong_s_winter_avg, vmin=0, vmax=mld_strong_s_winter_avg.max())\n",
    "ax[1,1].set_xlabel('Longitude')\n",
    "ax[1,1].set_title('Strong')\n",
    "plt.colorbar(e)\n",
    "\n",
    "f=ax[1,2].pcolormesh(xcc, ycc, delta_mld_ctrl_strong_winter_avg, cmap='coolwarm',)\n",
    "ax[1,2].set_xlabel('Longitude')\n",
    "ax[1,2].set_title('Strong - Ctrl')\n",
    "plt.colorbar(f, label='MLD (m)')\n",
    "\n",
    "#----------adjust----------\n",
    "plt.subplots_adjust(wspace=0.05)\n",
    "plt.show()\n"
   ]
  },
  {
   "cell_type": "code",
   "execution_count": null,
   "id": "dc8ea10e-4d64-4fea-baed-8ee19080e28a",
   "metadata": {},
   "outputs": [],
   "source": [
    "mld_ctrl_zonal_average=np.mean(mld_ctrl_s_winter_avg,axis=1)\n",
    "mld_strong_zonal_average=np.mean(mld_strong_s_winter_avg,axis=1)\n",
    "mld_weak_zonal_average=np.mean(mld_weak_s_winter_avg,axis=1)"
   ]
  },
  {
   "cell_type": "code",
   "execution_count": null,
   "id": "a7e220c0-e298-4726-8f26-9dd0c7d3270c",
   "metadata": {},
   "outputs": [],
   "source": [
    "plt.plot(yp1[:12], mld_ctrl_zonal_average, label='Ctrl')\n",
    "plt.plot(yp1[:12], mld_strong_zonal_average, label='Strong')\n",
    "plt.plot(yp1[:12], mld_weak_zonal_average, label='Weak')\n",
    "plt.legend(loc='upper left')\n",
    "plt.xlabel('Latitude')\n",
    "plt.ylabel('Depth (m)')\n",
    "plt.title('Zonal average of the winter mixed layer depth \\n for each simulation'.upper(), fontweight='bold')\n",
    "plt.show()"
   ]
  },
  {
   "cell_type": "markdown",
   "id": "90eec842-1cf7-4510-81f0-c6940a20b84d",
   "metadata": {},
   "source": [
    "##### Age tracer "
   ]
  },
  {
   "cell_type": "code",
   "execution_count": null,
   "id": "1b3f06bf-0239-4485-bef2-a6d7953a83c0",
   "metadata": {},
   "outputs": [],
   "source": [
    "Age_tracer_ctrl_zonal_average=np.mean(Age_tracer_ctrl[-1,:,:,:], axis=2)\n",
    "Age_tracer_strong_zonal_average=np.mean(Age_tracer_strong[-1,:,:,:], axis=2)\n",
    "Age_tracer_weak_zonal_average=np.mean(Age_tracer_weak[-1,:,:,:], axis=2)\n",
    "\n",
    "delta_age_tracer_ctrl_strong_avg=Age_tracer_strong_zonal_average-Age_tracer_ctrl_zonal_average\n",
    "delta_age_tracer_ctrl_weak_avg=Age_tracer_weak_zonal_average-Age_tracer_ctrl_zonal_average"
   ]
  },
  {
   "cell_type": "code",
   "execution_count": null,
   "id": "51ed6896-9dce-4d03-82dc-79adbbdc4567",
   "metadata": {},
   "outputs": [],
   "source": [
    "#ctrl+weak mld\n",
    "fig, ax=plt.subplots(2,3, figsize=(12,5), sharey=True, sharex=True)\n",
    "plt.suptitle('Zonally averaged section of the control, sensitivity and response \\n \\\n",
    "             of the age tracer averaged over the last year'.upper(),fontweight='bold', y=1.03)\n",
    "\n",
    "a=ax[0,0].contourf(yp1[:12], z, Age_tracer_ctrl_zonal_average[:,:12])\n",
    "ax[0,0].set_title('Ctrl')\n",
    "ax[0,0].set_ylabel('Depth (m)')\n",
    "plt.colorbar(a, )\n",
    "\n",
    "b=ax[0,1].contourf(yp1[:12], z, Age_tracer_weak_zonal_average[:,:12])\n",
    "ax[0,1].set_title('Weak')\n",
    "plt.colorbar(b, )\n",
    "\n",
    "c=ax[0,2].contourf(yp1[:12], z, delta_age_tracer_ctrl_weak_avg[:,:12], cmap='coolwarm', )\n",
    "ax[0,2].set_title('Weak - Ctrl')\n",
    "plt.colorbar(c, label='Age tracer conc. (kg/kg)')\n",
    "\n",
    "#ctrl+strong mld\n",
    "d=ax[1,0].contourf(yp1[:12], z, Age_tracer_ctrl_zonal_average[:,:12])\n",
    "ax[1,0].set_ylabel('Depth (m)')\n",
    "ax[1,0].set_xlabel('Latitude')\n",
    "ax[1,0].set_title('Ctrl')\n",
    "plt.colorbar(d,)\n",
    "\n",
    "e=ax[1,1].contourf(yp1[:12], z, Age_tracer_strong_zonal_average[:,:12])\n",
    "ax[1,1].set_xlabel('Latitude')\n",
    "ax[1,1].set_title('Strong')\n",
    "plt.colorbar(e, )\n",
    "\n",
    "f=ax[1,2].contourf(yp1[:12], z, delta_age_tracer_ctrl_strong_avg[:,:12], cmap='coolwarm',)\n",
    "ax[1,2].set_xlabel('Latitude')\n",
    "ax[1,2].set_title('Strong - Ctrl')\n",
    "plt.colorbar(f, label='Age tracer conc. (kg/kg)')\n",
    "\n",
    "#----------adjust----------\n",
    "plt.subplots_adjust(wspace=0.05)\n",
    "plt.show()\n"
   ]
  },
  {
   "cell_type": "code",
   "execution_count": null,
   "id": "283c41b0-f676-42e0-be79-3b6a066b7c9a",
   "metadata": {},
   "outputs": [],
   "source": [
    "GM_MOC_strong_sv_10yr_avg.max()"
   ]
  },
  {
   "cell_type": "code",
   "execution_count": null,
   "id": "8223dca1-f22f-4351-8e69-27f80014cdb1",
   "metadata": {},
   "outputs": [],
   "source": []
  }
 ],
 "metadata": {
  "kernelspec": {
   "display_name": "Python 3 (ipykernel)",
   "language": "python",
   "name": "python3"
  },
  "language_info": {
   "codemirror_mode": {
    "name": "ipython",
    "version": 3
   },
   "file_extension": ".py",
   "mimetype": "text/x-python",
   "name": "python",
   "nbconvert_exporter": "python",
   "pygments_lexer": "ipython3",
   "version": "3.10.6"
  }
 },
 "nbformat": 4,
 "nbformat_minor": 5
}
